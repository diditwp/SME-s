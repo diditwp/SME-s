{
 "cells": [
  {
   "cell_type": "markdown",
   "id": "c3e65232",
   "metadata": {},
   "source": [
    "### Credit Scoring SME's Analysis"
   ]
  },
  {
   "cell_type": "markdown",
   "id": "af918a76",
   "metadata": {},
   "source": [
    "#### Logistic Regression"
   ]
  },
  {
   "cell_type": "code",
   "execution_count": 1,
   "id": "93340f2a",
   "metadata": {},
   "outputs": [],
   "source": [
    "import pandas as pd\n",
    "import numpy as np\n",
    "import statsmodels.formula.api as smf\n",
    "\n",
    "from sklearn.model_selection import train_test_split\n",
    "from sklearn.linear_model import LogisticRegression,LinearRegression\n",
    "from sklearn.metrics import accuracy_score\n",
    "from sklearn.preprocessing import PolynomialFeatures\n",
    "from sklearn.model_selection import cross_val_score\n",
    "from sklearn.metrics import accuracy_score, confusion_matrix, roc_curve\n",
    "\n",
    "import statsmodels.api as sm\n",
    "\n",
    "import matplotlib.pyplot as plt\n",
    "import seaborn as sns"
   ]
  },
  {
   "cell_type": "markdown",
   "id": "c792e03d",
   "metadata": {},
   "source": [
    "#### Load data yang bersumber dari SIKEPANG"
   ]
  },
  {
   "cell_type": "code",
   "execution_count": 2,
   "id": "b300f5d2",
   "metadata": {},
   "outputs": [
    {
     "name": "stdout",
     "output_type": "stream",
     "text": [
      "(342, 22)\n"
     ]
    },
    {
     "data": {
      "text/html": [
       "<div>\n",
       "<style scoped>\n",
       "    .dataframe tbody tr th:only-of-type {\n",
       "        vertical-align: middle;\n",
       "    }\n",
       "\n",
       "    .dataframe tbody tr th {\n",
       "        vertical-align: top;\n",
       "    }\n",
       "\n",
       "    .dataframe thead th {\n",
       "        text-align: right;\n",
       "    }\n",
       "</style>\n",
       "<table border=\"1\" class=\"dataframe\">\n",
       "  <thead>\n",
       "    <tr style=\"text-align: right;\">\n",
       "      <th></th>\n",
       "      <th>Periode</th>\n",
       "      <th>No. ID Ref</th>\n",
       "      <th>Nama Klaster/ Usaha/ Kelompok Usaha</th>\n",
       "      <th>Nama Ketua Kelompok/ Pengusaha</th>\n",
       "      <th>Jenis Usaha</th>\n",
       "      <th>Bentuk Badan Usaha</th>\n",
       "      <th>Badan Pengawas Obat dan Makanan (BPOM)</th>\n",
       "      <th>Sertifikasi Halal MUI</th>\n",
       "      <th>HACCP</th>\n",
       "      <th>Standar Nasional Indonesia (SNI)</th>\n",
       "      <th>...</th>\n",
       "      <th>Jumlah Tenaga Kerja(Orang)</th>\n",
       "      <th>Sektor Ekonomi</th>\n",
       "      <th>Total Produksi Dihasilkan</th>\n",
       "      <th>Total Biaya Produksi (Rp)</th>\n",
       "      <th>Total Pendapatan (Rp)</th>\n",
       "      <th>Total Laba/Rugi (Rp)</th>\n",
       "      <th>Total Aset Dimiliki (Rp)</th>\n",
       "      <th>Memiliki Simpanan di Bank</th>\n",
       "      <th>Pinjaman Bank</th>\n",
       "      <th>Outstanding Pinjaman</th>\n",
       "    </tr>\n",
       "  </thead>\n",
       "  <tbody>\n",
       "    <tr>\n",
       "      <th>0</th>\n",
       "      <td>2023-03-01</td>\n",
       "      <td>1067</td>\n",
       "      <td>Kerajinan Anyaman Purun dan Ilung</td>\n",
       "      <td>SOPIANOR</td>\n",
       "      <td>NON PERTANIAN</td>\n",
       "      <td>NaN</td>\n",
       "      <td>TIDAK</td>\n",
       "      <td>TIDAK</td>\n",
       "      <td>TIDAK</td>\n",
       "      <td>TIDAK</td>\n",
       "      <td>...</td>\n",
       "      <td>70</td>\n",
       "      <td>Sektor Industri Pengolahan (Manufaktur) : Anek...</td>\n",
       "      <td>6180.0</td>\n",
       "      <td>60564000</td>\n",
       "      <td>182000000.0</td>\n",
       "      <td>121436000.0</td>\n",
       "      <td>1.100000e+09</td>\n",
       "      <td>YA</td>\n",
       "      <td>1</td>\n",
       "      <td>62110000.0</td>\n",
       "    </tr>\n",
       "    <tr>\n",
       "      <th>1</th>\n",
       "      <td>2023-03-01</td>\n",
       "      <td>11</td>\n",
       "      <td>KLASTER PADI UNGGUL ORGANIK</td>\n",
       "      <td>Randam Purnomo</td>\n",
       "      <td>PERTANIAN</td>\n",
       "      <td>NaN</td>\n",
       "      <td>TIDAK</td>\n",
       "      <td>TIDAK</td>\n",
       "      <td>TIDAK</td>\n",
       "      <td>TIDAK</td>\n",
       "      <td>...</td>\n",
       "      <td>97</td>\n",
       "      <td>Sektor Pertanian, Peternakan dan Perikanan</td>\n",
       "      <td>120428.0</td>\n",
       "      <td>215000000</td>\n",
       "      <td>756000000.0</td>\n",
       "      <td>541000000.0</td>\n",
       "      <td>2.250000e+09</td>\n",
       "      <td>YA</td>\n",
       "      <td>0</td>\n",
       "      <td>NaN</td>\n",
       "    </tr>\n",
       "    <tr>\n",
       "      <th>2</th>\n",
       "      <td>2023-03-01</td>\n",
       "      <td>11</td>\n",
       "      <td>KLASTER PADI UNGGUL ORGANIK</td>\n",
       "      <td>Randam Purnomo</td>\n",
       "      <td>PERTANIAN</td>\n",
       "      <td>NaN</td>\n",
       "      <td>TIDAK</td>\n",
       "      <td>TIDAK</td>\n",
       "      <td>TIDAK</td>\n",
       "      <td>TIDAK</td>\n",
       "      <td>...</td>\n",
       "      <td>85</td>\n",
       "      <td>Sektor Pertanian, Peternakan dan Perikanan</td>\n",
       "      <td>28.0</td>\n",
       "      <td>50000000</td>\n",
       "      <td>241000000.0</td>\n",
       "      <td>191000000.0</td>\n",
       "      <td>1.250000e+09</td>\n",
       "      <td>YA</td>\n",
       "      <td>0</td>\n",
       "      <td>NaN</td>\n",
       "    </tr>\n",
       "    <tr>\n",
       "      <th>3</th>\n",
       "      <td>2023-03-01</td>\n",
       "      <td>1366</td>\n",
       "      <td>Klaster Udang Kotabaru</td>\n",
       "      <td>BEDDU</td>\n",
       "      <td>NON PERTANIAN</td>\n",
       "      <td>NaN</td>\n",
       "      <td>TIDAK</td>\n",
       "      <td>TIDAK</td>\n",
       "      <td>TIDAK</td>\n",
       "      <td>TIDAK</td>\n",
       "      <td>...</td>\n",
       "      <td>27</td>\n",
       "      <td>Sektor Pertanian, Peternakan dan Perikanan</td>\n",
       "      <td>6000.0</td>\n",
       "      <td>115000000</td>\n",
       "      <td>600000000.0</td>\n",
       "      <td>485000000.0</td>\n",
       "      <td>8.000000e+08</td>\n",
       "      <td>YA</td>\n",
       "      <td>0</td>\n",
       "      <td>NaN</td>\n",
       "    </tr>\n",
       "    <tr>\n",
       "      <th>4</th>\n",
       "      <td>2023-03-01</td>\n",
       "      <td>1821</td>\n",
       "      <td>Rumah Kreasi Tomat</td>\n",
       "      <td>Dhianita Pratiwi</td>\n",
       "      <td>NON PERTANIAN</td>\n",
       "      <td>Perseorangan</td>\n",
       "      <td>TIDAK</td>\n",
       "      <td>YA</td>\n",
       "      <td>TIDAK</td>\n",
       "      <td>TIDAK</td>\n",
       "      <td>...</td>\n",
       "      <td>2</td>\n",
       "      <td>Sektor Industri Pengolahan (Manufaktur) : Indu...</td>\n",
       "      <td>3000.0</td>\n",
       "      <td>21000000</td>\n",
       "      <td>54000000.0</td>\n",
       "      <td>33000000.0</td>\n",
       "      <td>5.750000e+08</td>\n",
       "      <td>YA</td>\n",
       "      <td>0</td>\n",
       "      <td>NaN</td>\n",
       "    </tr>\n",
       "  </tbody>\n",
       "</table>\n",
       "<p>5 rows × 22 columns</p>\n",
       "</div>"
      ],
      "text/plain": [
       "     Periode  No. ID Ref Nama Klaster/ Usaha/ Kelompok Usaha  \\\n",
       "0 2023-03-01        1067   Kerajinan Anyaman Purun dan Ilung   \n",
       "1 2023-03-01          11         KLASTER PADI UNGGUL ORGANIK   \n",
       "2 2023-03-01          11         KLASTER PADI UNGGUL ORGANIK   \n",
       "3 2023-03-01        1366              Klaster Udang Kotabaru   \n",
       "4 2023-03-01        1821                  Rumah Kreasi Tomat   \n",
       "\n",
       "  Nama Ketua Kelompok/ Pengusaha    Jenis Usaha Bentuk Badan Usaha  \\\n",
       "0                       SOPIANOR  NON PERTANIAN                NaN   \n",
       "1                 Randam Purnomo      PERTANIAN                NaN   \n",
       "2                 Randam Purnomo      PERTANIAN                NaN   \n",
       "3                          BEDDU  NON PERTANIAN                NaN   \n",
       "4               Dhianita Pratiwi  NON PERTANIAN       Perseorangan   \n",
       "\n",
       "  Badan Pengawas Obat dan Makanan (BPOM) Sertifikasi Halal MUI  HACCP  \\\n",
       "0                                  TIDAK                 TIDAK  TIDAK   \n",
       "1                                  TIDAK                 TIDAK  TIDAK   \n",
       "2                                  TIDAK                 TIDAK  TIDAK   \n",
       "3                                  TIDAK                 TIDAK  TIDAK   \n",
       "4                                  TIDAK                    YA  TIDAK   \n",
       "\n",
       "  Standar Nasional Indonesia (SNI)  ...  Jumlah Tenaga Kerja(Orang)  \\\n",
       "0                            TIDAK  ...                          70   \n",
       "1                            TIDAK  ...                          97   \n",
       "2                            TIDAK  ...                          85   \n",
       "3                            TIDAK  ...                          27   \n",
       "4                            TIDAK  ...                           2   \n",
       "\n",
       "                                      Sektor Ekonomi  \\\n",
       "0  Sektor Industri Pengolahan (Manufaktur) : Anek...   \n",
       "1         Sektor Pertanian, Peternakan dan Perikanan   \n",
       "2         Sektor Pertanian, Peternakan dan Perikanan   \n",
       "3         Sektor Pertanian, Peternakan dan Perikanan   \n",
       "4  Sektor Industri Pengolahan (Manufaktur) : Indu...   \n",
       "\n",
       "   Total Produksi Dihasilkan Total Biaya Produksi (Rp)  Total Pendapatan (Rp)  \\\n",
       "0                     6180.0                  60564000            182000000.0   \n",
       "1                   120428.0                 215000000            756000000.0   \n",
       "2                       28.0                  50000000            241000000.0   \n",
       "3                     6000.0                 115000000            600000000.0   \n",
       "4                     3000.0                  21000000             54000000.0   \n",
       "\n",
       "   Total Laba/Rugi (Rp)  Total Aset Dimiliki (Rp)  Memiliki Simpanan di Bank  \\\n",
       "0           121436000.0              1.100000e+09                         YA   \n",
       "1           541000000.0              2.250000e+09                         YA   \n",
       "2           191000000.0              1.250000e+09                         YA   \n",
       "3           485000000.0              8.000000e+08                         YA   \n",
       "4            33000000.0              5.750000e+08                         YA   \n",
       "\n",
       "   Pinjaman Bank Outstanding Pinjaman  \n",
       "0              1           62110000.0  \n",
       "1              0                  NaN  \n",
       "2              0                  NaN  \n",
       "3              0                  NaN  \n",
       "4              0                  NaN  \n",
       "\n",
       "[5 rows x 22 columns]"
      ]
     },
     "execution_count": 2,
     "metadata": {},
     "output_type": "execute_result"
    }
   ],
   "source": [
    "df = pd.read_excel('Profil UMKM_ML.xlsx')\n",
    "print(df.shape)\n",
    "df.head()"
   ]
  },
  {
   "cell_type": "code",
   "execution_count": 3,
   "id": "6b101b41",
   "metadata": {},
   "outputs": [],
   "source": [
    "# Create binary indicators\n",
    "binary_map = {'YA': 1, 'TIDAK': 0}\n",
    "df['Badan Pengawas Obat dan Makanan (BPOM)'] = df['Badan Pengawas Obat dan Makanan (BPOM)'].map(binary_map)\n",
    "df['Sertifikasi Halal MUI'] = df['Sertifikasi Halal MUI'].map(binary_map)\n",
    "df['Memiliki Simpanan di Bank'] = df['Memiliki Simpanan di Bank'].map(binary_map)\n",
    "\n",
    "# Handle missing values in correct order\n",
    "df['Outstanding Pinjaman'] = df['Outstanding Pinjaman'].fillna(0)\n",
    "df = df.dropna(subset=['Total Aset Dimiliki (Rp)'])  # drop that 1 NA row"
   ]
  },
  {
   "cell_type": "code",
   "execution_count": 4,
   "id": "8e344ff5",
   "metadata": {},
   "outputs": [
    {
     "name": "stdout",
     "output_type": "stream",
     "text": [
      "Logit 1 accuracy: 97.66%\n"
     ]
    }
   ],
   "source": [
    "# Drop any remaining rows with NA in modeling columns (just in case)\n",
    "model_columns = [\n",
    "    'Badan Pengawas Obat dan Makanan (BPOM)',\n",
    "    'Jumlah Tenaga Kerja(Orang)',\n",
    "    'Total Produksi Dihasilkan',\n",
    "    'Total Biaya Produksi (Rp)',\n",
    "    'Total Pendapatan (Rp)',\n",
    "    'Total Laba/Rugi (Rp)',\n",
    "    'Total Aset Dimiliki (Rp)',\n",
    "    'Memiliki Simpanan di Bank',\n",
    "    'Outstanding Pinjaman',\n",
    "    'Pinjaman Bank'\n",
    "]\n",
    "df = df.dropna(subset=model_columns)\n",
    "\n",
    "# Define X and y\n",
    "x = df[model_columns[:-1]]\n",
    "y = df['Pinjaman Bank']\n",
    "\n",
    "# Fit Logistic model\n",
    "logisticRegr = LogisticRegression(max_iter=1000)\n",
    "logisticRegr.fit(x, y)\n",
    "\n",
    "# Predict the test set\n",
    "y_pred_log_class = logisticRegr.predict(x)\n",
    "\n",
    "# Initialize accuracy tracking dictionary\n",
    "accuracies = {} \n",
    "\n",
    "accuracies['Logit 1'] = accuracy_score(y, y_pred_log_class)\n",
    "\n",
    "# Print the accuracies\n",
    "for model, accuracy in accuracies.items():\n",
    "    print(f'{model} accuracy: {round(accuracy, 4)*100}%')"
   ]
  },
  {
   "cell_type": "code",
   "execution_count": 5,
   "id": "d49a3942",
   "metadata": {},
   "outputs": [
    {
     "data": {
      "image/png": "[encoded data removed]",
      "text/plain": [
       "<Figure size 640x480 with 2 Axes>"
      ]
     },
     "metadata": {},
     "output_type": "display_data"
    }
   ],
   "source": [
    "# Confusion Matrix\n",
    "ax = sns.heatmap(\n",
    "    confusion_matrix(\n",
    "        y,\n",
    "        y_pred_log_class,\n",
    "        normalize = 'true'\n",
    "    ),\n",
    "    annot=True,\n",
    "    fmt='.2%',\n",
    "    cmap='Blues'\n",
    ")\n",
    "\n",
    "ax.set_title('Logistic: Confusion Matrix with labels\\n')\n",
    "ax.set_xlabel('\\nPredicted Values')\n",
    "ax.set_ylabel('Actual Values')\n",
    "\n",
    "ax.xaxis.set_ticklabels(['False','True'])\n",
    "ax.yaxis.set_ticklabels(['False','True'])\n",
    "\n",
    "plt.show()"
   ]
  },
  {
   "cell_type": "code",
   "execution_count": 6,
   "id": "bea0603b",
   "metadata": {},
   "outputs": [
    {
     "name": "stdout",
     "output_type": "stream",
     "text": [
      "Model accuracy for logistic model 1 is 97.66 %\n",
      "Validation error for logistic model 1 is 2.34 %\n"
     ]
    }
   ],
   "source": [
    "# computing model accuracy\n",
    "print('Model accuracy for logistic model 1 is', round((accuracy_score(y, y_pred_log_class)) * 100, 2), '%')\n",
    "\n",
    "# computing the validation error\n",
    "print('Validation error for logistic model 1 is', round((1 - accuracy_score(y, y_pred_log_class)) * 100, 2), '%')"
   ]
  },
  {
   "cell_type": "markdown",
   "id": "f18e8f83",
   "metadata": {},
   "source": [
    "**Note:** If we also want to use other method or algorithm, we can create another estimate."
   ]
  },
  {
   "cell_type": "markdown",
   "id": "a1cada82",
   "metadata": {},
   "source": [
    "### Random Forest"
   ]
  },
  {
   "cell_type": "code",
   "execution_count": 13,
   "id": "b2d9af75",
   "metadata": {},
   "outputs": [
    {
     "ename": "KeyError",
     "evalue": "'Nama UMKM'",
     "output_type": "error",
     "traceback": [
      "\u001b[1;31m---------------------------------------------------------------------------\u001b[0m",
      "\u001b[1;31mKeyError\u001b[0m                                  Traceback (most recent call last)",
      "File \u001b[1;32mC:\\ProgramData\\anaconda3\\Lib\\site-packages\\pandas\\core\\indexes\\base.py:3791\u001b[0m, in \u001b[0;36mIndex.get_loc\u001b[1;34m(self, key)\u001b[0m\n\u001b[0;32m   3790\u001b[0m \u001b[38;5;28;01mtry\u001b[39;00m:\n\u001b[1;32m-> 3791\u001b[0m     \u001b[38;5;28;01mreturn\u001b[39;00m \u001b[38;5;28mself\u001b[39m\u001b[38;5;241m.\u001b[39m_engine\u001b[38;5;241m.\u001b[39mget_loc(casted_key)\n\u001b[0;32m   3792\u001b[0m \u001b[38;5;28;01mexcept\u001b[39;00m \u001b[38;5;167;01mKeyError\u001b[39;00m \u001b[38;5;28;01mas\u001b[39;00m err:\n",
      "File \u001b[1;32mindex.pyx:152\u001b[0m, in \u001b[0;36mpandas._libs.index.IndexEngine.get_loc\u001b[1;34m()\u001b[0m\n",
      "File \u001b[1;32mindex.pyx:181\u001b[0m, in \u001b[0;36mpandas._libs.index.IndexEngine.get_loc\u001b[1;34m()\u001b[0m\n",
      "File \u001b[1;32mpandas\\_libs\\hashtable_class_helper.pxi:7080\u001b[0m, in \u001b[0;36mpandas._libs.hashtable.PyObjectHashTable.get_item\u001b[1;34m()\u001b[0m\n",
      "File \u001b[1;32mpandas\\_libs\\hashtable_class_helper.pxi:7088\u001b[0m, in \u001b[0;36mpandas._libs.hashtable.PyObjectHashTable.get_item\u001b[1;34m()\u001b[0m\n",
      "\u001b[1;31mKeyError\u001b[0m: 'Nama UMKM'",
      "\nThe above exception was the direct cause of the following exception:\n",
      "\u001b[1;31mKeyError\u001b[0m                                  Traceback (most recent call last)",
      "Cell \u001b[1;32mIn[13], line 15\u001b[0m\n\u001b[0;32m     11\u001b[0m y \u001b[38;5;241m=\u001b[39m df[\u001b[38;5;124m'\u001b[39m\u001b[38;5;124mPinjaman Bank\u001b[39m\u001b[38;5;124m'\u001b[39m]\n\u001b[0;32m     13\u001b[0m \u001b[38;5;66;03m# Split dataset\u001b[39;00m\n\u001b[0;32m     14\u001b[0m X_train, X_test, y_train, y_test, name_train, name_test \u001b[38;5;241m=\u001b[39m train_test_split(\n\u001b[1;32m---> 15\u001b[0m     X, y, df[\u001b[38;5;124m'\u001b[39m\u001b[38;5;124mNama UMKM\u001b[39m\u001b[38;5;124m'\u001b[39m], test_size\u001b[38;5;241m=\u001b[39m\u001b[38;5;241m0.3\u001b[39m, random_state\u001b[38;5;241m=\u001b[39m\u001b[38;5;241m42\u001b[39m\n\u001b[0;32m     16\u001b[0m )\n\u001b[0;32m     18\u001b[0m \u001b[38;5;66;03m# Fit Random Forest model\u001b[39;00m\n\u001b[0;32m     19\u001b[0m rf_model \u001b[38;5;241m=\u001b[39m RandomForestClassifier(random_state\u001b[38;5;241m=\u001b[39m\u001b[38;5;241m42\u001b[39m)\n",
      "File \u001b[1;32mC:\\ProgramData\\anaconda3\\Lib\\site-packages\\pandas\\core\\frame.py:3893\u001b[0m, in \u001b[0;36mDataFrame.__getitem__\u001b[1;34m(self, key)\u001b[0m\n\u001b[0;32m   3891\u001b[0m \u001b[38;5;28;01mif\u001b[39;00m \u001b[38;5;28mself\u001b[39m\u001b[38;5;241m.\u001b[39mcolumns\u001b[38;5;241m.\u001b[39mnlevels \u001b[38;5;241m>\u001b[39m \u001b[38;5;241m1\u001b[39m:\n\u001b[0;32m   3892\u001b[0m     \u001b[38;5;28;01mreturn\u001b[39;00m \u001b[38;5;28mself\u001b[39m\u001b[38;5;241m.\u001b[39m_getitem_multilevel(key)\n\u001b[1;32m-> 3893\u001b[0m indexer \u001b[38;5;241m=\u001b[39m \u001b[38;5;28mself\u001b[39m\u001b[38;5;241m.\u001b[39mcolumns\u001b[38;5;241m.\u001b[39mget_loc(key)\n\u001b[0;32m   3894\u001b[0m \u001b[38;5;28;01mif\u001b[39;00m is_integer(indexer):\n\u001b[0;32m   3895\u001b[0m     indexer \u001b[38;5;241m=\u001b[39m [indexer]\n",
      "File \u001b[1;32mC:\\ProgramData\\anaconda3\\Lib\\site-packages\\pandas\\core\\indexes\\base.py:3798\u001b[0m, in \u001b[0;36mIndex.get_loc\u001b[1;34m(self, key)\u001b[0m\n\u001b[0;32m   3793\u001b[0m     \u001b[38;5;28;01mif\u001b[39;00m \u001b[38;5;28misinstance\u001b[39m(casted_key, \u001b[38;5;28mslice\u001b[39m) \u001b[38;5;129;01mor\u001b[39;00m (\n\u001b[0;32m   3794\u001b[0m         \u001b[38;5;28misinstance\u001b[39m(casted_key, abc\u001b[38;5;241m.\u001b[39mIterable)\n\u001b[0;32m   3795\u001b[0m         \u001b[38;5;129;01mand\u001b[39;00m \u001b[38;5;28many\u001b[39m(\u001b[38;5;28misinstance\u001b[39m(x, \u001b[38;5;28mslice\u001b[39m) \u001b[38;5;28;01mfor\u001b[39;00m x \u001b[38;5;129;01min\u001b[39;00m casted_key)\n\u001b[0;32m   3796\u001b[0m     ):\n\u001b[0;32m   3797\u001b[0m         \u001b[38;5;28;01mraise\u001b[39;00m InvalidIndexError(key)\n\u001b[1;32m-> 3798\u001b[0m     \u001b[38;5;28;01mraise\u001b[39;00m \u001b[38;5;167;01mKeyError\u001b[39;00m(key) \u001b[38;5;28;01mfrom\u001b[39;00m \u001b[38;5;21;01merr\u001b[39;00m\n\u001b[0;32m   3799\u001b[0m \u001b[38;5;28;01mexcept\u001b[39;00m \u001b[38;5;167;01mTypeError\u001b[39;00m:\n\u001b[0;32m   3800\u001b[0m     \u001b[38;5;66;03m# If we have a listlike key, _check_indexing_error will raise\u001b[39;00m\n\u001b[0;32m   3801\u001b[0m     \u001b[38;5;66;03m#  InvalidIndexError. Otherwise we fall through and re-raise\u001b[39;00m\n\u001b[0;32m   3802\u001b[0m     \u001b[38;5;66;03m#  the TypeError.\u001b[39;00m\n\u001b[0;32m   3803\u001b[0m     \u001b[38;5;28mself\u001b[39m\u001b[38;5;241m.\u001b[39m_check_indexing_error(key)\n",
      "\u001b[1;31mKeyError\u001b[0m: 'Nama UMKM'"
     ]
    }
   ],
   "source": [
    "import pandas as pd\n",
    "import numpy as np\n",
    "from sklearn.ensemble import RandomForestClassifier\n",
    "from sklearn.model_selection import train_test_split\n",
    "from sklearn.metrics import accuracy_score, confusion_matrix\n",
    "import seaborn as sns\n",
    "import matplotlib.pyplot as plt\n",
    "\n",
    "# Prepare features and target\n",
    "X = df[model_columns[:-1]]\n",
    "y = df['Pinjaman Bank']\n",
    "\n",
    "# Split into training and testing sets\n",
    "X_train, X_test, y_train, y_test = train_test_split(X, y, test_size=0.3, random_state=42)\n",
    "\n",
    "# Fit Random Forest model\n",
    "rf_model = RandomForestClassifier(random_state=42)\n",
    "rf_model.fit(X_train, y_train)\n",
    "\n",
    "# Predict\n",
    "y_pred_rf = rf_model.predict(X_test)"
   ]
  },
  {
   "cell_type": "code",
   "execution_count": 8,
   "id": "7e1a042d-9501-4b8c-b995-458aeff3c490",
   "metadata": {
    "scrolled": true
   },
   "outputs": [
    {
     "data": {
      "image/png": "[encoded data removed]",
      "text/plain": [
       "<Figure size 600x400 with 2 Axes>"
      ]
     },
     "metadata": {},
     "output_type": "display_data"
    }
   ],
   "source": [
    "# Confusion Matrix Plot\n",
    "plt.figure(figsize=(6, 4))\n",
    "ax = sns.heatmap(\n",
    "    confusion_matrix(y_test, y_pred_rf, normalize='true'),\n",
    "    annot=True,\n",
    "    fmt='.2%',\n",
    "    cmap='Greens'\n",
    ")\n",
    "ax.set_title('Random Forest: Confusion Matrix with labels\\n')\n",
    "ax.set_xlabel('\\nPredicted Values')\n",
    "ax.set_ylabel('Actual Values')\n",
    "ax.xaxis.set_ticklabels(['False', 'True'])\n",
    "ax.yaxis.set_ticklabels(['False', 'True'])\n",
    "plt.tight_layout()\n",
    "plt.show()"
   ]
  },
  {
   "cell_type": "code",
   "execution_count": 9,
   "id": "035ec256-ae1e-43b4-a4c5-eb7baedc56a7",
   "metadata": {},
   "outputs": [
    {
     "name": "stdout",
     "output_type": "stream",
     "text": [
      "Model accuracy for Random Forest is 98.06 %\n",
      "Validation error for Random Forest model is 1.94 %\n"
     ]
    }
   ],
   "source": [
    "# computing model accuracy\n",
    "print('Model accuracy for Random Forest is', round((accuracy_score(y_test, y_pred_rf)) * 100, 2), '%')\n",
    "\n",
    "# Validation error\n",
    "validation_error = round((1 - accuracy_score(y_test, y_pred_rf)) * 100, 2)\n",
    "print('Validation error for Random Forest model is', validation_error, '%')"
   ]
  },
  {
   "cell_type": "code",
   "execution_count": 16,
   "id": "33a36684-a492-49ed-a6aa-f5a034611efd",
   "metadata": {},
   "outputs": [
    {
     "data": {
      "image/png": "[encoded data removed]",
      "text/plain": [
       "<Figure size 600x400 with 2 Axes>"
      ]
     },
     "metadata": {},
     "output_type": "display_data"
    },
    {
     "name": "stdout",
     "output_type": "stream",
     "text": [
      "Model accuracy for Random Forest: 98.06%\n",
      "\n",
      "Tabel Hasil Prediksi Kelayakan UMKM:\n",
      "                           Nama UMKM Prediksi Kelayakan\n",
      "0                     Anak Raja Sawa     Layak Dibiayai\n",
      "1             Gapoktan Kayuh Baimbai        Tidak Layak\n",
      "2                       Galyna Heiwa        Tidak Layak\n",
      "3  Kerajinan Anyaman Purun dan Ilung     Layak Dibiayai\n",
      "4                         MEKAR TANI        Tidak Layak\n",
      "5                       Galyna Heiwa        Tidak Layak\n",
      "6                           Go Purun        Tidak Layak\n",
      "7                               BMBN     Layak Dibiayai\n",
      "8                    Danish Kitchen         Tidak Layak\n",
      "9                 Rumah Kreasi Tomat        Tidak Layak\n"
     ]
    }
   ],
   "source": [
    "import pandas as pd\n",
    "import numpy as np\n",
    "import seaborn as sns\n",
    "import matplotlib.pyplot as plt\n",
    "\n",
    "from sklearn.linear_model import LogisticRegression\n",
    "from sklearn.ensemble import RandomForestClassifier\n",
    "from sklearn.model_selection import train_test_split\n",
    "from sklearn.metrics import accuracy_score, confusion_matrix\n",
    "\n",
    "# Load Data\n",
    "df = pd.read_excel('Profil UMKM_ML.xlsx')\n",
    "\n",
    "# Binary mapping\n",
    "binary_map = {'YA': 1, 'TIDAK': 0}\n",
    "df['Badan Pengawas Obat dan Makanan (BPOM)'] = df['Badan Pengawas Obat dan Makanan (BPOM)'].map(binary_map)\n",
    "df['Sertifikasi Halal MUI'] = df['Sertifikasi Halal MUI'].map(binary_map)\n",
    "df['Memiliki Simpanan di Bank'] = df['Memiliki Simpanan di Bank'].map(binary_map)\n",
    "\n",
    "# Handle missing values\n",
    "df['Outstanding Pinjaman'] = df['Outstanding Pinjaman'].fillna(0)\n",
    "df = df.dropna(subset=['Total Aset Dimiliki (Rp)'])\n",
    "\n",
    "# Definisikan fitur dan target\n",
    "model_columns = [\n",
    "    'Badan Pengawas Obat dan Makanan (BPOM)',\n",
    "    'Jumlah Tenaga Kerja(Orang)',\n",
    "    'Total Produksi Dihasilkan',\n",
    "    'Total Biaya Produksi (Rp)',\n",
    "    'Total Pendapatan (Rp)',\n",
    "    'Total Laba/Rugi (Rp)',\n",
    "    'Total Aset Dimiliki (Rp)',\n",
    "    'Memiliki Simpanan di Bank',\n",
    "    'Outstanding Pinjaman',\n",
    "    'Pinjaman Bank'\n",
    "]\n",
    "\n",
    "df = df.dropna(subset=model_columns)\n",
    "\n",
    "# Define X and y\n",
    "X = df[model_columns[:-1]]\n",
    "y = df['Pinjaman Bank']\n",
    "nama_umkm = df['Nama Klaster/ Usaha/ Kelompok Usaha']\n",
    "\n",
    "# Split data\n",
    "X_train, X_test, y_train, y_test, name_train, name_test = train_test_split(\n",
    "    X, y, nama_umkm, test_size=0.3, random_state=42\n",
    ")\n",
    "\n",
    "# Fit Random Forest model\n",
    "rf_model = RandomForestClassifier(random_state=42)\n",
    "rf_model.fit(X_train, y_train)\n",
    "\n",
    "\n",
    "y_pred_rf = rf_model.predict(X_test)\n",
    "\n",
    "# Confusion Matrix\n",
    "plt.figure(figsize=(6, 4))\n",
    "ax = sns.heatmap(\n",
    "    confusion_matrix(y_test, y_pred_rf, normalize='true'),\n",
    "    annot=True,\n",
    "    fmt='.2%',\n",
    "    cmap='Greens'\n",
    ")\n",
    "ax.set_title('Random Forest: Confusion Matrix\\n')\n",
    "ax.set_xlabel('Predicted Values')\n",
    "ax.set_ylabel('Actual Values')\n",
    "ax.xaxis.set_ticklabels(['False', 'True'])\n",
    "ax.yaxis.set_ticklabels(['False', 'True'])\n",
    "plt.tight_layout()\n",
    "plt.show()\n",
    "\n",
    "accuracy_rf = round(accuracy_score(y_test, y_pred_rf) * 100, 2)\n",
    "print(f'Model accuracy for Random Forest: {accuracy_rf}%')\n",
    "\n",
    "# Tabel hasil prediksi kelayakan\n",
    "result_df = pd.DataFrame({\n",
    "    'Nama UMKM': name_test.values,\n",
    "    'Prediksi Kelayakan': np.where(y_pred_rf == 1, 'Layak Dibiayai', 'Tidak Layak')\n",
    "})\n",
    "\n",
    "print(\"\\nTabel Hasil Prediksi Kelayakan UMKM:\")\n",
    "print(result_df.head(10))\n",
    "\n",
    "# Simpan output ke format excel\n",
    "result_df.to_excel('Hasil_Prediksi_Kelayakan_UMKM.xlsx', index=False)"
   ]
  },
  {
   "cell_type": "markdown",
   "id": "251d8f28-8e27-47cd-b1d8-e516c5a5a902",
   "metadata": {},
   "source": [
    "# We can create more robust Model! Only if we have enough time :)"
   ]
  },
  {
   "cell_type": "code",
   "execution_count": 13,
   "id": "c63f8d58-3be7-4443-a996-eb4622c1579a",
   "metadata": {},
   "outputs": [
    {
     "name": "stdout",
     "output_type": "stream",
     "text": [
      "Sample of UMKMs predicted to be worthy of receiving a loan:\n",
      "   Nama Klaster/ Usaha/ Kelompok Usaha Nama Ketua Kelompok/ Pengusaha  \\\n",
      "0                       Anak Raja Sawa             Nasrullah Alhakimi   \n",
      "3    Kerajinan Anyaman Purun dan Ilung                       SOPIANOR   \n",
      "7                                 BMBN                Hj. Mariana, ST   \n",
      "11                     Dapur Banjar 2R          Sri Sufia Ningsih, SE   \n",
      "13                              Shanum                   Dina Desiana   \n",
      "14                       Dapoer Evanti                Evanti Khuzaini   \n",
      "16   Kerajinan Anyaman Purun dan Ilung                       SOPIANOR   \n",
      "18                           Tambiyaku        Muhammad Bayu Hermawan    \n",
      "24                              Shanum                   Dina Desiana   \n",
      "25            Kelompok Tani Karya Baru                        Junaidi   \n",
      "\n",
      "    Predicted Pinjaman Bank  \n",
      "0                         1  \n",
      "3                         1  \n",
      "7                         1  \n",
      "11                        1  \n",
      "13                        1  \n",
      "14                        1  \n",
      "16                        1  \n",
      "18                        1  \n",
      "24                        1  \n",
      "25                        1  \n"
     ]
    }
   ],
   "source": [
    "# Append predictions to the test set\n",
    "X_test_with_preds = X_test.copy()\n",
    "X_test_with_preds['Actual Pinjaman Bank'] = y_test.values\n",
    "X_test_with_preds['Predicted Pinjaman Bank'] = y_pred_rf\n",
    "\n",
    "# Merge with original identifiers (like Nama Klaster or Ketua)\n",
    "df_identifiers = df[['Nama Klaster/ Usaha/ Kelompok Usaha', 'Nama Ketua Kelompok/ Pengusaha']]\n",
    "df_identifiers = df_identifiers.loc[X_test_with_preds.index]\n",
    "\n",
    "# Combine identifiers and predictions\n",
    "results_df = pd.concat([df_identifiers.reset_index(drop=True), X_test_with_preds.reset_index(drop=True)], axis=1)\n",
    "\n",
    "# Filter only UMKMs predicted as worthy of loan (i.e., Predicted = 1)\n",
    "umkm_worthy = results_df[results_df['Predicted Pinjaman Bank'] == 1]\n",
    "\n",
    "# Show the top 10 as a sample\n",
    "print(\"Sample of UMKMs predicted to be worthy of receiving a loan:\")\n",
    "print(umkm_worthy[['Nama Klaster/ Usaha/ Kelompok Usaha', 'Nama Ketua Kelompok/ Pengusaha', 'Predicted Pinjaman Bank']].head(10))"
   ]
  },
  {
   "cell_type": "code",
   "execution_count": 15,
   "id": "c1fa2b9c-91d2-4fd0-b1f6-4502e9dacc54",
   "metadata": {},
   "outputs": [
    {
     "name": "stdout",
     "output_type": "stream",
     "text": [
      "Total UMKMs predicted as worthy: 31\n"
     ]
    },
    {
     "data": {
      "text/html": [
       "<div>\n",
       "<style scoped>\n",
       "    .dataframe tbody tr th:only-of-type {\n",
       "        vertical-align: middle;\n",
       "    }\n",
       "\n",
       "    .dataframe tbody tr th {\n",
       "        vertical-align: top;\n",
       "    }\n",
       "\n",
       "    .dataframe thead th {\n",
       "        text-align: right;\n",
       "    }\n",
       "</style>\n",
       "<table border=\"1\" class=\"dataframe\">\n",
       "  <thead>\n",
       "    <tr style=\"text-align: right;\">\n",
       "      <th></th>\n",
       "      <th>Nama Klaster/ Usaha/ Kelompok Usaha</th>\n",
       "      <th>Nama Ketua Kelompok/ Pengusaha</th>\n",
       "      <th>Actual Pinjaman Bank</th>\n",
       "      <th>Predicted Pinjaman Bank</th>\n",
       "    </tr>\n",
       "  </thead>\n",
       "  <tbody>\n",
       "    <tr>\n",
       "      <th>0</th>\n",
       "      <td>Anak Raja Sawa</td>\n",
       "      <td>Nasrullah Alhakimi</td>\n",
       "      <td>1</td>\n",
       "      <td>1</td>\n",
       "    </tr>\n",
       "    <tr>\n",
       "      <th>58</th>\n",
       "      <td>Anak Raja Sawa</td>\n",
       "      <td>Nasrullah Alhakimi</td>\n",
       "      <td>1</td>\n",
       "      <td>1</td>\n",
       "    </tr>\n",
       "    <tr>\n",
       "      <th>29</th>\n",
       "      <td>BMBN</td>\n",
       "      <td>Hj. Mariana, ST</td>\n",
       "      <td>1</td>\n",
       "      <td>1</td>\n",
       "    </tr>\n",
       "    <tr>\n",
       "      <th>32</th>\n",
       "      <td>BMBN</td>\n",
       "      <td>Hj. Mariana, ST</td>\n",
       "      <td>1</td>\n",
       "      <td>1</td>\n",
       "    </tr>\n",
       "    <tr>\n",
       "      <th>34</th>\n",
       "      <td>Kerajinan Anyaman Purun dan Ilung</td>\n",
       "      <td>SOPIANOR</td>\n",
       "      <td>1</td>\n",
       "      <td>1</td>\n",
       "    </tr>\n",
       "    <tr>\n",
       "      <th>...</th>\n",
       "      <td>...</td>\n",
       "      <td>...</td>\n",
       "      <td>...</td>\n",
       "      <td>...</td>\n",
       "    </tr>\n",
       "    <tr>\n",
       "      <th>1</th>\n",
       "      <td>Gapoktan Kayuh Baimbai</td>\n",
       "      <td>Misrani</td>\n",
       "      <td>0</td>\n",
       "      <td>0</td>\n",
       "    </tr>\n",
       "    <tr>\n",
       "      <th>15</th>\n",
       "      <td>AMAN SASIRANGAN</td>\n",
       "      <td>ABDURRAHMAN</td>\n",
       "      <td>0</td>\n",
       "      <td>0</td>\n",
       "    </tr>\n",
       "    <tr>\n",
       "      <th>17</th>\n",
       "      <td>Dasadaya</td>\n",
       "      <td>Hariah</td>\n",
       "      <td>0</td>\n",
       "      <td>0</td>\n",
       "    </tr>\n",
       "    <tr>\n",
       "      <th>46</th>\n",
       "      <td>Ngadonfood</td>\n",
       "      <td>Aria Anggareini</td>\n",
       "      <td>0</td>\n",
       "      <td>0</td>\n",
       "    </tr>\n",
       "    <tr>\n",
       "      <th>102</th>\n",
       "      <td>Dapur Mama Dildan</td>\n",
       "      <td>Heldawati</td>\n",
       "      <td>0</td>\n",
       "      <td>0</td>\n",
       "    </tr>\n",
       "  </tbody>\n",
       "</table>\n",
       "<p>103 rows × 4 columns</p>\n",
       "</div>"
      ],
      "text/plain": [
       "    Nama Klaster/ Usaha/ Kelompok Usaha Nama Ketua Kelompok/ Pengusaha  \\\n",
       "0                        Anak Raja Sawa             Nasrullah Alhakimi   \n",
       "58                       Anak Raja Sawa             Nasrullah Alhakimi   \n",
       "29                                 BMBN                Hj. Mariana, ST   \n",
       "32                                 BMBN                Hj. Mariana, ST   \n",
       "34    Kerajinan Anyaman Purun dan Ilung                       SOPIANOR   \n",
       "..                                  ...                            ...   \n",
       "1                Gapoktan Kayuh Baimbai                        Misrani   \n",
       "15                      AMAN SASIRANGAN                    ABDURRAHMAN   \n",
       "17                             Dasadaya                         Hariah   \n",
       "46                           Ngadonfood                Aria Anggareini   \n",
       "102                   Dapur Mama Dildan                      Heldawati   \n",
       "\n",
       "     Actual Pinjaman Bank  Predicted Pinjaman Bank  \n",
       "0                       1                        1  \n",
       "58                      1                        1  \n",
       "29                      1                        1  \n",
       "32                      1                        1  \n",
       "34                      1                        1  \n",
       "..                    ...                      ...  \n",
       "1                       0                        0  \n",
       "15                      0                        0  \n",
       "17                      0                        0  \n",
       "46                      0                        0  \n",
       "102                     0                        0  \n",
       "\n",
       "[103 rows x 4 columns]"
      ]
     },
     "metadata": {},
     "output_type": "display_data"
    }
   ],
   "source": [
    "# Attach identifiers\n",
    "df_identifiers = df[['Nama Klaster/ Usaha/ Kelompok Usaha', 'Nama Ketua Kelompok/ Pengusaha']]\n",
    "df_identifiers = df_identifiers.loc[X_test_with_preds.index]\n",
    "\n",
    "# Combine\n",
    "results_df = pd.concat([df_identifiers.reset_index(drop=True), X_test_with_preds.reset_index(drop=True)], axis=1)\n",
    "\n",
    "worthy_all = results_df[results_df['Predicted Pinjaman Bank'] == 1]\n",
    "print(\"Total UMKMs predicted as worthy:\", worthy_all.shape[0])\n",
    "\n",
    "display(results_df[['Nama Klaster/ Usaha/ Kelompok Usaha',\n",
    "                    'Nama Ketua Kelompok/ Pengusaha',\n",
    "                    'Actual Pinjaman Bank',\n",
    "                    'Predicted Pinjaman Bank']].sort_values(by='Predicted Pinjaman Bank', ascending=False))"
   ]
  },
  {
   "cell_type": "code",
   "execution_count": 16,
   "id": "19d6b3df-1d10-4abb-9293-06880bc9c584",
   "metadata": {},
   "outputs": [
    {
     "name": "stdout",
     "output_type": "stream",
     "text": [
      "UMKMs predicted as worthy but have never received a loan:\n"
     ]
    },
    {
     "data": {
      "text/html": [
       "<div>\n",
       "<style scoped>\n",
       "    .dataframe tbody tr th:only-of-type {\n",
       "        vertical-align: middle;\n",
       "    }\n",
       "\n",
       "    .dataframe tbody tr th {\n",
       "        vertical-align: top;\n",
       "    }\n",
       "\n",
       "    .dataframe thead th {\n",
       "        text-align: right;\n",
       "    }\n",
       "</style>\n",
       "<table border=\"1\" class=\"dataframe\">\n",
       "  <thead>\n",
       "    <tr style=\"text-align: right;\">\n",
       "      <th></th>\n",
       "      <th>Nama Klaster/ Usaha/ Kelompok Usaha</th>\n",
       "      <th>Nama Ketua Kelompok/ Pengusaha</th>\n",
       "      <th>Predicted Pinjaman Bank</th>\n",
       "      <th>Actual Pinjaman Bank</th>\n",
       "    </tr>\n",
       "  </thead>\n",
       "  <tbody>\n",
       "    <tr>\n",
       "      <th>93</th>\n",
       "      <td>Rumah Kreasi Tomat</td>\n",
       "      <td>Dhianita Pratiwi</td>\n",
       "      <td>1</td>\n",
       "      <td>0</td>\n",
       "    </tr>\n",
       "  </tbody>\n",
       "</table>\n",
       "</div>"
      ],
      "text/plain": [
       "   Nama Klaster/ Usaha/ Kelompok Usaha Nama Ketua Kelompok/ Pengusaha  \\\n",
       "93                  Rumah Kreasi Tomat               Dhianita Pratiwi   \n",
       "\n",
       "    Predicted Pinjaman Bank  Actual Pinjaman Bank  \n",
       "93                        1                     0  "
      ]
     },
     "metadata": {},
     "output_type": "display_data"
    }
   ],
   "source": [
    "# Filter: predicted worthy but has never received a loan\n",
    "umkm_recommended = results_df[\n",
    "    (results_df['Predicted Pinjaman Bank'] == 1) &\n",
    "    (results_df['Actual Pinjaman Bank'] == 0)\n",
    "]\n",
    "\n",
    "# Display the list\n",
    "print(\"UMKMs predicted as worthy but have never received a loan:\")\n",
    "display(umkm_recommended[['Nama Klaster/ Usaha/ Kelompok Usaha', \n",
    "                          'Nama Ketua Kelompok/ Pengusaha', \n",
    "                          'Predicted Pinjaman Bank', \n",
    "                          'Actual Pinjaman Bank']])"
   ]
  },
  {
   "cell_type": "code",
   "execution_count": 36,
   "id": "163a2272",
   "metadata": {},
   "outputs": [
    {
     "name": "stderr",
     "output_type": "stream",
     "text": [
      "C:\\Users\\Didit Wahyu Pradipta\\anaconda3\\lib\\site-packages\\statsmodels\\discrete\\discrete_model.py:2385: RuntimeWarning: overflow encountered in exp\n",
      "  return 1/(1+np.exp(-X))\n",
      "C:\\Users\\Didit Wahyu Pradipta\\anaconda3\\lib\\site-packages\\statsmodels\\discrete\\discrete_model.py:2443: RuntimeWarning: divide by zero encountered in log\n",
      "  return np.sum(np.log(self.cdf(q * linpred)))\n"
     ]
    },
    {
     "name": "stdout",
     "output_type": "stream",
     "text": [
      "Warning: Maximum number of iterations has been exceeded.\n",
      "         Current function value: inf\n",
      "         Iterations: 35\n"
     ]
    },
    {
     "ename": "LinAlgError",
     "evalue": "Singular matrix",
     "output_type": "error",
     "traceback": [
      "\u001b[1;31m---------------------------------------------------------------------------\u001b[0m",
      "\u001b[1;31mLinAlgError\u001b[0m                               Traceback (most recent call last)",
      "Cell \u001b[1;32mIn[36], line 6\u001b[0m\n\u001b[0;32m      4\u001b[0m \u001b[38;5;66;03m# Fit logistic regression model\u001b[39;00m\n\u001b[0;32m      5\u001b[0m logit_model \u001b[38;5;241m=\u001b[39m sm\u001b[38;5;241m.\u001b[39mLogit(y, X)\n\u001b[1;32m----> 6\u001b[0m result \u001b[38;5;241m=\u001b[39m \u001b[43mlogit_model\u001b[49m\u001b[38;5;241;43m.\u001b[39;49m\u001b[43mfit\u001b[49m\u001b[43m(\u001b[49m\u001b[43m)\u001b[49m\n\u001b[0;32m      8\u001b[0m \u001b[38;5;66;03m# Print summary of regression results\u001b[39;00m\n\u001b[0;32m      9\u001b[0m \u001b[38;5;28mprint\u001b[39m(result\u001b[38;5;241m.\u001b[39msummary())\n",
      "File \u001b[1;32m~\\anaconda3\\lib\\site-packages\\statsmodels\\discrete\\discrete_model.py:2601\u001b[0m, in \u001b[0;36mLogit.fit\u001b[1;34m(self, start_params, method, maxiter, full_output, disp, callback, **kwargs)\u001b[0m\n\u001b[0;32m   2598\u001b[0m \u001b[38;5;129m@Appender\u001b[39m(DiscreteModel\u001b[38;5;241m.\u001b[39mfit\u001b[38;5;241m.\u001b[39m\u001b[38;5;18m__doc__\u001b[39m)\n\u001b[0;32m   2599\u001b[0m \u001b[38;5;28;01mdef\u001b[39;00m \u001b[38;5;21mfit\u001b[39m(\u001b[38;5;28mself\u001b[39m, start_params\u001b[38;5;241m=\u001b[39m\u001b[38;5;28;01mNone\u001b[39;00m, method\u001b[38;5;241m=\u001b[39m\u001b[38;5;124m'\u001b[39m\u001b[38;5;124mnewton\u001b[39m\u001b[38;5;124m'\u001b[39m, maxiter\u001b[38;5;241m=\u001b[39m\u001b[38;5;241m35\u001b[39m,\n\u001b[0;32m   2600\u001b[0m         full_output\u001b[38;5;241m=\u001b[39m\u001b[38;5;241m1\u001b[39m, disp\u001b[38;5;241m=\u001b[39m\u001b[38;5;241m1\u001b[39m, callback\u001b[38;5;241m=\u001b[39m\u001b[38;5;28;01mNone\u001b[39;00m, \u001b[38;5;241m*\u001b[39m\u001b[38;5;241m*\u001b[39mkwargs):\n\u001b[1;32m-> 2601\u001b[0m     bnryfit \u001b[38;5;241m=\u001b[39m \u001b[38;5;28msuper\u001b[39m()\u001b[38;5;241m.\u001b[39mfit(start_params\u001b[38;5;241m=\u001b[39mstart_params,\n\u001b[0;32m   2602\u001b[0m                           method\u001b[38;5;241m=\u001b[39mmethod,\n\u001b[0;32m   2603\u001b[0m                           maxiter\u001b[38;5;241m=\u001b[39mmaxiter,\n\u001b[0;32m   2604\u001b[0m                           full_output\u001b[38;5;241m=\u001b[39mfull_output,\n\u001b[0;32m   2605\u001b[0m                           disp\u001b[38;5;241m=\u001b[39mdisp,\n\u001b[0;32m   2606\u001b[0m                           callback\u001b[38;5;241m=\u001b[39mcallback,\n\u001b[0;32m   2607\u001b[0m                           \u001b[38;5;241m*\u001b[39m\u001b[38;5;241m*\u001b[39mkwargs)\n\u001b[0;32m   2609\u001b[0m     discretefit \u001b[38;5;241m=\u001b[39m LogitResults(\u001b[38;5;28mself\u001b[39m, bnryfit)\n\u001b[0;32m   2610\u001b[0m     \u001b[38;5;28;01mreturn\u001b[39;00m BinaryResultsWrapper(discretefit)\n",
      "File \u001b[1;32m~\\anaconda3\\lib\\site-packages\\statsmodels\\discrete\\discrete_model.py:243\u001b[0m, in \u001b[0;36mDiscreteModel.fit\u001b[1;34m(self, start_params, method, maxiter, full_output, disp, callback, **kwargs)\u001b[0m\n\u001b[0;32m    240\u001b[0m \u001b[38;5;28;01melse\u001b[39;00m:\n\u001b[0;32m    241\u001b[0m     \u001b[38;5;28;01mpass\u001b[39;00m  \u001b[38;5;66;03m# TODO: make a function factory to have multiple call-backs\u001b[39;00m\n\u001b[1;32m--> 243\u001b[0m mlefit \u001b[38;5;241m=\u001b[39m \u001b[38;5;28msuper\u001b[39m()\u001b[38;5;241m.\u001b[39mfit(start_params\u001b[38;5;241m=\u001b[39mstart_params,\n\u001b[0;32m    244\u001b[0m                      method\u001b[38;5;241m=\u001b[39mmethod,\n\u001b[0;32m    245\u001b[0m                      maxiter\u001b[38;5;241m=\u001b[39mmaxiter,\n\u001b[0;32m    246\u001b[0m                      full_output\u001b[38;5;241m=\u001b[39mfull_output,\n\u001b[0;32m    247\u001b[0m                      disp\u001b[38;5;241m=\u001b[39mdisp,\n\u001b[0;32m    248\u001b[0m                      callback\u001b[38;5;241m=\u001b[39mcallback,\n\u001b[0;32m    249\u001b[0m                      \u001b[38;5;241m*\u001b[39m\u001b[38;5;241m*\u001b[39mkwargs)\n\u001b[0;32m    251\u001b[0m \u001b[38;5;28;01mreturn\u001b[39;00m mlefit\n",
      "File \u001b[1;32m~\\anaconda3\\lib\\site-packages\\statsmodels\\base\\model.py:582\u001b[0m, in \u001b[0;36mLikelihoodModel.fit\u001b[1;34m(self, start_params, method, maxiter, full_output, disp, fargs, callback, retall, skip_hessian, **kwargs)\u001b[0m\n\u001b[0;32m    580\u001b[0m     Hinv \u001b[38;5;241m=\u001b[39m cov_params_func(\u001b[38;5;28mself\u001b[39m, xopt, retvals)\n\u001b[0;32m    581\u001b[0m \u001b[38;5;28;01melif\u001b[39;00m method \u001b[38;5;241m==\u001b[39m \u001b[38;5;124m'\u001b[39m\u001b[38;5;124mnewton\u001b[39m\u001b[38;5;124m'\u001b[39m \u001b[38;5;129;01mand\u001b[39;00m full_output:\n\u001b[1;32m--> 582\u001b[0m     Hinv \u001b[38;5;241m=\u001b[39m \u001b[43mnp\u001b[49m\u001b[38;5;241;43m.\u001b[39;49m\u001b[43mlinalg\u001b[49m\u001b[38;5;241;43m.\u001b[39;49m\u001b[43minv\u001b[49m\u001b[43m(\u001b[49m\u001b[38;5;241;43m-\u001b[39;49m\u001b[43mretvals\u001b[49m\u001b[43m[\u001b[49m\u001b[38;5;124;43m'\u001b[39;49m\u001b[38;5;124;43mHessian\u001b[39;49m\u001b[38;5;124;43m'\u001b[39;49m\u001b[43m]\u001b[49m\u001b[43m)\u001b[49m \u001b[38;5;241m/\u001b[39m nobs\n\u001b[0;32m    583\u001b[0m \u001b[38;5;28;01melif\u001b[39;00m \u001b[38;5;129;01mnot\u001b[39;00m skip_hessian:\n\u001b[0;32m    584\u001b[0m     H \u001b[38;5;241m=\u001b[39m \u001b[38;5;241m-\u001b[39m\u001b[38;5;241m1\u001b[39m \u001b[38;5;241m*\u001b[39m \u001b[38;5;28mself\u001b[39m\u001b[38;5;241m.\u001b[39mhessian(xopt)\n",
      "File \u001b[1;32m<__array_function__ internals>:200\u001b[0m, in \u001b[0;36minv\u001b[1;34m(*args, **kwargs)\u001b[0m\n",
      "File \u001b[1;32m~\\anaconda3\\lib\\site-packages\\numpy\\linalg\\linalg.py:538\u001b[0m, in \u001b[0;36minv\u001b[1;34m(a)\u001b[0m\n\u001b[0;32m    536\u001b[0m signature \u001b[38;5;241m=\u001b[39m \u001b[38;5;124m'\u001b[39m\u001b[38;5;124mD->D\u001b[39m\u001b[38;5;124m'\u001b[39m \u001b[38;5;28;01mif\u001b[39;00m isComplexType(t) \u001b[38;5;28;01melse\u001b[39;00m \u001b[38;5;124m'\u001b[39m\u001b[38;5;124md->d\u001b[39m\u001b[38;5;124m'\u001b[39m\n\u001b[0;32m    537\u001b[0m extobj \u001b[38;5;241m=\u001b[39m get_linalg_error_extobj(_raise_linalgerror_singular)\n\u001b[1;32m--> 538\u001b[0m ainv \u001b[38;5;241m=\u001b[39m \u001b[43m_umath_linalg\u001b[49m\u001b[38;5;241;43m.\u001b[39;49m\u001b[43minv\u001b[49m\u001b[43m(\u001b[49m\u001b[43ma\u001b[49m\u001b[43m,\u001b[49m\u001b[43m \u001b[49m\u001b[43msignature\u001b[49m\u001b[38;5;241;43m=\u001b[39;49m\u001b[43msignature\u001b[49m\u001b[43m,\u001b[49m\u001b[43m \u001b[49m\u001b[43mextobj\u001b[49m\u001b[38;5;241;43m=\u001b[39;49m\u001b[43mextobj\u001b[49m\u001b[43m)\u001b[49m\n\u001b[0;32m    539\u001b[0m \u001b[38;5;28;01mreturn\u001b[39;00m wrap(ainv\u001b[38;5;241m.\u001b[39mastype(result_t, copy\u001b[38;5;241m=\u001b[39m\u001b[38;5;28;01mFalse\u001b[39;00m))\n",
      "File \u001b[1;32m~\\anaconda3\\lib\\site-packages\\numpy\\linalg\\linalg.py:89\u001b[0m, in \u001b[0;36m_raise_linalgerror_singular\u001b[1;34m(err, flag)\u001b[0m\n\u001b[0;32m     88\u001b[0m \u001b[38;5;28;01mdef\u001b[39;00m \u001b[38;5;21m_raise_linalgerror_singular\u001b[39m(err, flag):\n\u001b[1;32m---> 89\u001b[0m     \u001b[38;5;28;01mraise\u001b[39;00m LinAlgError(\u001b[38;5;124m\"\u001b[39m\u001b[38;5;124mSingular matrix\u001b[39m\u001b[38;5;124m\"\u001b[39m)\n",
      "\u001b[1;31mLinAlgError\u001b[0m: Singular matrix"
     ]
    }
   ],
   "source": [
    "# Add a constant term to the predictor variables for the intercept\n",
    "X = sm.add_constant(x)\n",
    "\n",
    "# Fit logistic regression model\n",
    "logit_model = sm.Logit(y, X)\n",
    "result = logit_model.fit()\n",
    "\n",
    "# Print summary of regression results\n",
    "print(result.summary())"
   ]
  },
  {
   "cell_type": "markdown",
   "id": "b37a46c3",
   "metadata": {},
   "source": [
    "#### b. Using the validation set approach, estimate the test error of this model. In order to do this, you must perform the following steps:  \n",
    "i. Split the sample set into a training set and a validation set.  \n",
    "ii. Fit a multiple logistic regression model using only the training observations.  \n",
    "iii. Obtain a prediction of default status for each individual in the validation set by computing the posterior probability of\n",
    "default for that individual, and classifying the individual to the default category if the posterior probability is greater than 0.5.  \n",
    "iv. Compute the validation set error, which is the fraction of the observations in the validation set that are misclassified."
   ]
  },
  {
   "cell_type": "code",
   "execution_count": 7,
   "id": "d87266ea",
   "metadata": {},
   "outputs": [
    {
     "name": "stdout",
     "output_type": "stream",
     "text": [
      "Shape of training  (7000, 2)\n",
      "Shape of testing  (3000, 2)\n"
     ]
    },
    {
     "data": {
      "text/html": [
       "<div>\n",
       "<style scoped>\n",
       "    .dataframe tbody tr th:only-of-type {\n",
       "        vertical-align: middle;\n",
       "    }\n",
       "\n",
       "    .dataframe tbody tr th {\n",
       "        vertical-align: top;\n",
       "    }\n",
       "\n",
       "    .dataframe thead th {\n",
       "        text-align: right;\n",
       "    }\n",
       "</style>\n",
       "<table border=\"1\" class=\"dataframe\">\n",
       "  <thead>\n",
       "    <tr style=\"text-align: right;\">\n",
       "      <th></th>\n",
       "      <th>income</th>\n",
       "      <th>balance</th>\n",
       "    </tr>\n",
       "  </thead>\n",
       "  <tbody>\n",
       "    <tr>\n",
       "      <th>9069</th>\n",
       "      <td>41239.020510</td>\n",
       "      <td>0.000000</td>\n",
       "    </tr>\n",
       "    <tr>\n",
       "      <th>2603</th>\n",
       "      <td>37073.192381</td>\n",
       "      <td>961.999353</td>\n",
       "    </tr>\n",
       "    <tr>\n",
       "      <th>7738</th>\n",
       "      <td>19039.168273</td>\n",
       "      <td>655.611221</td>\n",
       "    </tr>\n",
       "    <tr>\n",
       "      <th>1579</th>\n",
       "      <td>27690.113535</td>\n",
       "      <td>864.047198</td>\n",
       "    </tr>\n",
       "    <tr>\n",
       "      <th>5058</th>\n",
       "      <td>57561.411261</td>\n",
       "      <td>1306.832034</td>\n",
       "    </tr>\n",
       "  </tbody>\n",
       "</table>\n",
       "</div>"
      ],
      "text/plain": [
       "            income      balance\n",
       "9069  41239.020510     0.000000\n",
       "2603  37073.192381   961.999353\n",
       "7738  19039.168273   655.611221\n",
       "1579  27690.113535   864.047198\n",
       "5058  57561.411261  1306.832034"
      ]
     },
     "metadata": {},
     "output_type": "display_data"
    },
    {
     "data": {
      "text/html": [
       "<div>\n",
       "<style scoped>\n",
       "    .dataframe tbody tr th:only-of-type {\n",
       "        vertical-align: middle;\n",
       "    }\n",
       "\n",
       "    .dataframe tbody tr th {\n",
       "        vertical-align: top;\n",
       "    }\n",
       "\n",
       "    .dataframe thead th {\n",
       "        text-align: right;\n",
       "    }\n",
       "</style>\n",
       "<table border=\"1\" class=\"dataframe\">\n",
       "  <thead>\n",
       "    <tr style=\"text-align: right;\">\n",
       "      <th></th>\n",
       "      <th>income</th>\n",
       "      <th>balance</th>\n",
       "    </tr>\n",
       "  </thead>\n",
       "  <tbody>\n",
       "    <tr>\n",
       "      <th>6252</th>\n",
       "      <td>31507.089277</td>\n",
       "      <td>1435.662933</td>\n",
       "    </tr>\n",
       "    <tr>\n",
       "      <th>4684</th>\n",
       "      <td>42139.070269</td>\n",
       "      <td>771.789347</td>\n",
       "    </tr>\n",
       "    <tr>\n",
       "      <th>1731</th>\n",
       "      <td>21809.218509</td>\n",
       "      <td>0.000000</td>\n",
       "    </tr>\n",
       "    <tr>\n",
       "      <th>4742</th>\n",
       "      <td>32803.832648</td>\n",
       "      <td>113.571264</td>\n",
       "    </tr>\n",
       "    <tr>\n",
       "      <th>4521</th>\n",
       "      <td>49903.597081</td>\n",
       "      <td>1358.132472</td>\n",
       "    </tr>\n",
       "  </tbody>\n",
       "</table>\n",
       "</div>"
      ],
      "text/plain": [
       "            income      balance\n",
       "6252  31507.089277  1435.662933\n",
       "4684  42139.070269   771.789347\n",
       "1731  21809.218509     0.000000\n",
       "4742  32803.832648   113.571264\n",
       "4521  49903.597081  1358.132472"
      ]
     },
     "metadata": {},
     "output_type": "display_data"
    },
    {
     "data": {
      "text/plain": [
       "9069    0\n",
       "2603    0\n",
       "7738    0\n",
       "1579    0\n",
       "5058    0\n",
       "Name: default, dtype: int64"
      ]
     },
     "metadata": {},
     "output_type": "display_data"
    },
    {
     "data": {
      "text/plain": [
       "6252    0\n",
       "4684    0\n",
       "1731    0\n",
       "4742    0\n",
       "4521    0\n",
       "Name: default, dtype: int64"
      ]
     },
     "metadata": {},
     "output_type": "display_data"
    }
   ],
   "source": [
    "# (i) Split the sample into a training set and a validation set\n",
    "X = x\n",
    "\n",
    "X_train, X_test, y_train, y_test = train_test_split(X, y, test_size=0.3, random_state=42)\n",
    "print('Shape of training ', X_train.shape)\n",
    "print('Shape of testing ', X_test.shape)\n",
    "\n",
    "# Double check that the index of the train and test sets match\n",
    "display(X_train.head(), X_test.head(), y_train.head(), y_test.head())"
   ]
  },
  {
   "cell_type": "markdown",
   "id": "f099daac",
   "metadata": {},
   "source": [
    "We want to make sure that our train and test sets are balanced. This means making sure that there are no significant differences between them. For this, we will merge the datasets back together while adding a dummy variable indicating whether a row comes from the training or the test set. We can then use this dummy variable as the dependent variable in a regression and evaluate the p-values of all features.\n",
    "\n",
    "Note that we only need to do this on the features. For the targets, we simply want to make sure that the labels are relatively well distributed among the train and test set."
   ]
  },
  {
   "cell_type": "code",
   "execution_count": 8,
   "id": "a356921e",
   "metadata": {},
   "outputs": [
    {
     "data": {
      "text/html": [
       "<div>\n",
       "<style scoped>\n",
       "    .dataframe tbody tr th:only-of-type {\n",
       "        vertical-align: middle;\n",
       "    }\n",
       "\n",
       "    .dataframe tbody tr th {\n",
       "        vertical-align: top;\n",
       "    }\n",
       "\n",
       "    .dataframe thead th {\n",
       "        text-align: right;\n",
       "    }\n",
       "</style>\n",
       "<table border=\"1\" class=\"dataframe\">\n",
       "  <thead>\n",
       "    <tr style=\"text-align: right;\">\n",
       "      <th></th>\n",
       "      <th>test</th>\n",
       "      <th>income</th>\n",
       "      <th>balance</th>\n",
       "    </tr>\n",
       "  </thead>\n",
       "  <tbody>\n",
       "    <tr>\n",
       "      <th>6252</th>\n",
       "      <td>1</td>\n",
       "      <td>31507.089277</td>\n",
       "      <td>1435.662933</td>\n",
       "    </tr>\n",
       "    <tr>\n",
       "      <th>4684</th>\n",
       "      <td>1</td>\n",
       "      <td>42139.070269</td>\n",
       "      <td>771.789347</td>\n",
       "    </tr>\n",
       "    <tr>\n",
       "      <th>1731</th>\n",
       "      <td>1</td>\n",
       "      <td>21809.218509</td>\n",
       "      <td>0.000000</td>\n",
       "    </tr>\n",
       "    <tr>\n",
       "      <th>4742</th>\n",
       "      <td>1</td>\n",
       "      <td>32803.832648</td>\n",
       "      <td>113.571264</td>\n",
       "    </tr>\n",
       "    <tr>\n",
       "      <th>4521</th>\n",
       "      <td>1</td>\n",
       "      <td>49903.597081</td>\n",
       "      <td>1358.132472</td>\n",
       "    </tr>\n",
       "    <tr>\n",
       "      <th>...</th>\n",
       "      <td>...</td>\n",
       "      <td>...</td>\n",
       "      <td>...</td>\n",
       "    </tr>\n",
       "    <tr>\n",
       "      <th>5734</th>\n",
       "      <td>0</td>\n",
       "      <td>33541.046380</td>\n",
       "      <td>865.697004</td>\n",
       "    </tr>\n",
       "    <tr>\n",
       "      <th>5191</th>\n",
       "      <td>0</td>\n",
       "      <td>20500.212632</td>\n",
       "      <td>493.629546</td>\n",
       "    </tr>\n",
       "    <tr>\n",
       "      <th>5390</th>\n",
       "      <td>0</td>\n",
       "      <td>26984.256287</td>\n",
       "      <td>722.029162</td>\n",
       "    </tr>\n",
       "    <tr>\n",
       "      <th>860</th>\n",
       "      <td>0</td>\n",
       "      <td>21083.004510</td>\n",
       "      <td>163.939823</td>\n",
       "    </tr>\n",
       "    <tr>\n",
       "      <th>7270</th>\n",
       "      <td>0</td>\n",
       "      <td>49657.394282</td>\n",
       "      <td>637.338107</td>\n",
       "    </tr>\n",
       "  </tbody>\n",
       "</table>\n",
       "<p>10000 rows × 3 columns</p>\n",
       "</div>"
      ],
      "text/plain": [
       "      test        income      balance\n",
       "6252     1  31507.089277  1435.662933\n",
       "4684     1  42139.070269   771.789347\n",
       "1731     1  21809.218509     0.000000\n",
       "4742     1  32803.832648   113.571264\n",
       "4521     1  49903.597081  1358.132472\n",
       "...    ...           ...          ...\n",
       "5734     0  33541.046380   865.697004\n",
       "5191     0  20500.212632   493.629546\n",
       "5390     0  26984.256287   722.029162\n",
       "860      0  21083.004510   163.939823\n",
       "7270     0  49657.394282   637.338107\n",
       "\n",
       "[10000 rows x 3 columns]"
      ]
     },
     "metadata": {},
     "output_type": "display_data"
    },
    {
     "name": "stdout",
     "output_type": "stream",
     "text": [
      "0    7000\n",
      "1    3000\n",
      "Name: test, dtype: int64\n"
     ]
    }
   ],
   "source": [
    "# Insert the dummy variable in each set. \n",
    "X_train.insert(0, 'test', 0)\n",
    "X_test.insert(0, 'test', 1)\n",
    "\n",
    "# Merge the train and test set\n",
    "X_full = pd.concat([X_test, X_train], axis = 0)\n",
    "\n",
    "display(X_full)\n",
    "print(X_full['test'].value_counts())"
   ]
  },
  {
   "cell_type": "code",
   "execution_count": 9,
   "id": "a0f909ab",
   "metadata": {},
   "outputs": [
    {
     "name": "stdout",
     "output_type": "stream",
     "text": [
      "                            OLS Regression Results                            \n",
      "==============================================================================\n",
      "Dep. Variable:                   test   R-squared:                       0.000\n",
      "Model:                            OLS   Adj. R-squared:                 -0.000\n",
      "Method:                 Least Squares   F-statistic:                    0.5678\n",
      "Date:                Tue, 30 Jan 2024   Prob (F-statistic):              0.567\n",
      "Time:                        18:40:55   Log-Likelihood:                -6385.6\n",
      "No. Observations:               10000   AIC:                         1.278e+04\n",
      "Df Residuals:                    9997   BIC:                         1.280e+04\n",
      "Df Model:                           2                                         \n",
      "Covariance Type:            nonrobust                                         \n",
      "==============================================================================\n",
      "                 coef    std err          t      P>|t|      [0.025      0.975]\n",
      "------------------------------------------------------------------------------\n",
      "Intercept      0.3131      0.016     19.827      0.000       0.282       0.344\n",
      "income     -3.696e-07   3.48e-07     -1.063      0.288   -1.05e-06    3.12e-07\n",
      "balance    -8.507e-07   9.59e-06     -0.089      0.929   -1.96e-05    1.79e-05\n",
      "==============================================================================\n",
      "Omnibus:                    13786.197   Durbin-Watson:                   0.001\n",
      "Prob(Omnibus):                  0.000   Jarque-Bera (JB):             1907.811\n",
      "Skew:                           0.873   Prob(JB):                         0.00\n",
      "Kurtosis:                       1.762   Cond. No.                     1.24e+05\n",
      "==============================================================================\n",
      "\n",
      "Notes:\n",
      "[1] Standard Errors assume that the covariance matrix of the errors is correctly specified.\n",
      "[2] The condition number is large, 1.24e+05. This might indicate that there are\n",
      "strong multicollinearity or other numerical problems.\n"
     ]
    }
   ],
   "source": [
    "result = smf.ols(\n",
    "    'test ~ income + balance',\n",
    "    data = X_full\n",
    ").fit()\n",
    "print(result.summary())"
   ]
  },
  {
   "cell_type": "markdown",
   "id": "e914c8ad",
   "metadata": {},
   "source": [
    "All of the p-values are larger than 0.1, hence, we can conclude that the train and test set are not significantly different (i.e., that they are very similar). This is exactly what we wished for. Otherwise, a model trained on the training set would not be able to predict the test set well."
   ]
  },
  {
   "cell_type": "markdown",
   "id": "a9c9cdec",
   "metadata": {},
   "source": [
    "With the labels, it is often sufficient to compute the percentage of positive labels (i.e., percentage of mpg01) and see if this ratio is approximately equal. In this case, it is true."
   ]
  },
  {
   "cell_type": "code",
   "execution_count": 10,
   "id": "d21c6fc4",
   "metadata": {},
   "outputs": [
    {
     "name": "stdout",
     "output_type": "stream",
     "text": [
      "Percentage of positive labels in the test set: 3.13\n",
      "Percentage of positive labels in the training set: 3.41\n"
     ]
    }
   ],
   "source": [
    "# Check the label distribution in the training and test sets\n",
    "print(f'Percentage of positive labels in the test set: {round(y_test.mean()*100, 2)}')\n",
    "print(f'Percentage of positive labels in the training set: {round(y_train.mean()*100, 2)}')"
   ]
  },
  {
   "cell_type": "code",
   "execution_count": 11,
   "id": "122ba65b",
   "metadata": {},
   "outputs": [],
   "source": [
    "# Remove the test dummy\n",
    "X_test = X_test.drop(['test'], axis=1)\n",
    "X_train = X_train.drop(['test'], axis=1)"
   ]
  },
  {
   "cell_type": "code",
   "execution_count": 17,
   "id": "db0cf10e",
   "metadata": {},
   "outputs": [
    {
     "data": {
      "text/html": [
       "<style>#sk-container-id-2 {color: black;}#sk-container-id-2 pre{padding: 0;}#sk-container-id-2 div.sk-toggleable {background-color: white;}#sk-container-id-2 label.sk-toggleable__label {cursor: pointer;display: block;width: 100%;margin-bottom: 0;padding: 0.3em;box-sizing: border-box;text-align: center;}#sk-container-id-2 label.sk-toggleable__label-arrow:before {content: \"▸\";float: left;margin-right: 0.25em;color: #696969;}#sk-container-id-2 label.sk-toggleable__label-arrow:hover:before {color: black;}#sk-container-id-2 div.sk-estimator:hover label.sk-toggleable__label-arrow:before {color: black;}#sk-container-id-2 div.sk-toggleable__content {max-height: 0;max-width: 0;overflow: hidden;text-align: left;background-color: #f0f8ff;}#sk-container-id-2 div.sk-toggleable__content pre {margin: 0.2em;color: black;border-radius: 0.25em;background-color: #f0f8ff;}#sk-container-id-2 input.sk-toggleable__control:checked~div.sk-toggleable__content {max-height: 200px;max-width: 100%;overflow: auto;}#sk-container-id-2 input.sk-toggleable__control:checked~label.sk-toggleable__label-arrow:before {content: \"▾\";}#sk-container-id-2 div.sk-estimator input.sk-toggleable__control:checked~label.sk-toggleable__label {background-color: #d4ebff;}#sk-container-id-2 div.sk-label input.sk-toggleable__control:checked~label.sk-toggleable__label {background-color: #d4ebff;}#sk-container-id-2 input.sk-hidden--visually {border: 0;clip: rect(1px 1px 1px 1px);clip: rect(1px, 1px, 1px, 1px);height: 1px;margin: -1px;overflow: hidden;padding: 0;position: absolute;width: 1px;}#sk-container-id-2 div.sk-estimator {font-family: monospace;background-color: #f0f8ff;border: 1px dotted black;border-radius: 0.25em;box-sizing: border-box;margin-bottom: 0.5em;}#sk-container-id-2 div.sk-estimator:hover {background-color: #d4ebff;}#sk-container-id-2 div.sk-parallel-item::after {content: \"\";width: 100%;border-bottom: 1px solid gray;flex-grow: 1;}#sk-container-id-2 div.sk-label:hover label.sk-toggleable__label {background-color: #d4ebff;}#sk-container-id-2 div.sk-serial::before {content: \"\";position: absolute;border-left: 1px solid gray;box-sizing: border-box;top: 0;bottom: 0;left: 50%;z-index: 0;}#sk-container-id-2 div.sk-serial {display: flex;flex-direction: column;align-items: center;background-color: white;padding-right: 0.2em;padding-left: 0.2em;position: relative;}#sk-container-id-2 div.sk-item {position: relative;z-index: 1;}#sk-container-id-2 div.sk-parallel {display: flex;align-items: stretch;justify-content: center;background-color: white;position: relative;}#sk-container-id-2 div.sk-item::before, #sk-container-id-2 div.sk-parallel-item::before {content: \"\";position: absolute;border-left: 1px solid gray;box-sizing: border-box;top: 0;bottom: 0;left: 50%;z-index: -1;}#sk-container-id-2 div.sk-parallel-item {display: flex;flex-direction: column;z-index: 1;position: relative;background-color: white;}#sk-container-id-2 div.sk-parallel-item:first-child::after {align-self: flex-end;width: 50%;}#sk-container-id-2 div.sk-parallel-item:last-child::after {align-self: flex-start;width: 50%;}#sk-container-id-2 div.sk-parallel-item:only-child::after {width: 0;}#sk-container-id-2 div.sk-dashed-wrapped {border: 1px dashed gray;margin: 0 0.4em 0.5em 0.4em;box-sizing: border-box;padding-bottom: 0.4em;background-color: white;}#sk-container-id-2 div.sk-label label {font-family: monospace;font-weight: bold;display: inline-block;line-height: 1.2em;}#sk-container-id-2 div.sk-label-container {text-align: center;}#sk-container-id-2 div.sk-container {/* jupyter's `normalize.less` sets `[hidden] { display: none; }` but bootstrap.min.css set `[hidden] { display: none !important; }` so we also need the `!important` here to be able to override the default hidden behavior on the sphinx rendered scikit-learn.org. See: https://github.com/scikit-learn/scikit-learn/issues/21755 */display: inline-block !important;position: relative;}#sk-container-id-2 div.sk-text-repr-fallback {display: none;}</style><div id=\"sk-container-id-2\" class=\"sk-top-container\"><div class=\"sk-text-repr-fallback\"><pre>LogisticRegression()</pre><b>In a Jupyter environment, please rerun this cell to show the HTML representation or trust the notebook. <br />On GitHub, the HTML representation is unable to render, please try loading this page with nbviewer.org.</b></div><div class=\"sk-container\" hidden><div class=\"sk-item\"><div class=\"sk-estimator sk-toggleable\"><input class=\"sk-toggleable__control sk-hidden--visually\" id=\"sk-estimator-id-2\" type=\"checkbox\" checked><label for=\"sk-estimator-id-2\" class=\"sk-toggleable__label sk-toggleable__label-arrow\">LogisticRegression</label><div class=\"sk-toggleable__content\"><pre>LogisticRegression()</pre></div></div></div></div></div>"
      ],
      "text/plain": [
       "LogisticRegression()"
      ]
     },
     "execution_count": 17,
     "metadata": {},
     "output_type": "execute_result"
    }
   ],
   "source": [
    "# (ii) Fit a multiple logistic regression model using only the training observations.  \n",
    "logisticRegr = LogisticRegression()\n",
    "logisticRegr.fit(X_train, y_train)"
   ]
  },
  {
   "cell_type": "code",
   "execution_count": 18,
   "id": "dc9fe16e",
   "metadata": {},
   "outputs": [],
   "source": [
    "# (iii) Obtain a prediction of default status for each individual in the validation set by computing the posterior probability \n",
    "# of default for that individual, and classifying the individual to the default category if the posterior probability is greater\n",
    "# than 0.5.  \n",
    "y_pred_log = logisticRegr.predict_proba(X_test)\n",
    "\n",
    "y_pred_class = (y_pred_log[:, 1] > 0.5).astype(int)"
   ]
  },
  {
   "cell_type": "code",
   "execution_count": 20,
   "id": "9b264b50",
   "metadata": {},
   "outputs": [
    {
     "name": "stdout",
     "output_type": "stream",
     "text": [
      "Logit part a accuracy: 97.37%\n",
      "Logit part b accuracy: 96.83%\n"
     ]
    }
   ],
   "source": [
    "accuracies['Logit part b'] = accuracy_score(y_test, y_pred_class)\n",
    "\n",
    "# Print the accuracies\n",
    "for model, accuracy in accuracies.items():\n",
    "    print(f'{model} accuracy: {round(accuracy, 4)*100}%')"
   ]
  },
  {
   "cell_type": "code",
   "execution_count": 21,
   "id": "fc531a2c",
   "metadata": {},
   "outputs": [
    {
     "data": {
      "image/png": "[encoded data removed]",
      "text/plain": [
       "<Figure size 640x480 with 2 Axes>"
      ]
     },
     "metadata": {},
     "output_type": "display_data"
    }
   ],
   "source": [
    "# Confusion Matrix\n",
    "ax = sns.heatmap(\n",
    "    confusion_matrix(\n",
    "        y_test,\n",
    "        y_pred_class,\n",
    "        normalize = 'true'\n",
    "    ),\n",
    "    annot=True,\n",
    "    fmt='.2%',\n",
    "    cmap='Blues'\n",
    ")\n",
    "\n",
    "ax.set_title('Logistic: Confusion Matrix with labels\\n')\n",
    "ax.set_xlabel('\\nPredicted Values')\n",
    "ax.set_ylabel('Actual Values')\n",
    "\n",
    "ax.xaxis.set_ticklabels(['False','True'])\n",
    "ax.yaxis.set_ticklabels(['False','True'])\n",
    "\n",
    "plt.show()"
   ]
  },
  {
   "cell_type": "code",
   "execution_count": 22,
   "id": "9003130d",
   "metadata": {},
   "outputs": [
    {
     "name": "stdout",
     "output_type": "stream",
     "text": [
      "Validation error for logistic model part b is 3.17 %\n"
     ]
    }
   ],
   "source": [
    "# (iv) Compute the validation set error, which is the fraction of the observations in the validation set that are misclassified.\n",
    "print('Validation error for logistic model part b is', round((1 - accuracy_score(y_test, y_pred_class)) * 100, 2), '%')"
   ]
  },
  {
   "cell_type": "markdown",
   "id": "08b9bb3e",
   "metadata": {},
   "source": [
    "#### c. Repeat the process in (b) three times, using three different splits of the observations into a training set and a validation set. Comment on the results obtained."
   ]
  },
  {
   "cell_type": "code",
   "execution_count": 23,
   "id": "fbfa25ba",
   "metadata": {},
   "outputs": [
    {
     "name": "stdout",
     "output_type": "stream",
     "text": [
      "Shape of training  (7000, 2)\n",
      "Shape of testing  (3000, 2)\n"
     ]
    },
    {
     "data": {
      "text/html": [
       "<div>\n",
       "<style scoped>\n",
       "    .dataframe tbody tr th:only-of-type {\n",
       "        vertical-align: middle;\n",
       "    }\n",
       "\n",
       "    .dataframe tbody tr th {\n",
       "        vertical-align: top;\n",
       "    }\n",
       "\n",
       "    .dataframe thead th {\n",
       "        text-align: right;\n",
       "    }\n",
       "</style>\n",
       "<table border=\"1\" class=\"dataframe\">\n",
       "  <thead>\n",
       "    <tr style=\"text-align: right;\">\n",
       "      <th></th>\n",
       "      <th>income</th>\n",
       "      <th>balance</th>\n",
       "    </tr>\n",
       "  </thead>\n",
       "  <tbody>\n",
       "    <tr>\n",
       "      <th>3194</th>\n",
       "      <td>11337.059246</td>\n",
       "      <td>1149.209836</td>\n",
       "    </tr>\n",
       "    <tr>\n",
       "      <th>1507</th>\n",
       "      <td>51560.028101</td>\n",
       "      <td>396.820316</td>\n",
       "    </tr>\n",
       "    <tr>\n",
       "      <th>3438</th>\n",
       "      <td>28262.868133</td>\n",
       "      <td>478.363326</td>\n",
       "    </tr>\n",
       "    <tr>\n",
       "      <th>9707</th>\n",
       "      <td>29254.871016</td>\n",
       "      <td>452.367912</td>\n",
       "    </tr>\n",
       "    <tr>\n",
       "      <th>9689</th>\n",
       "      <td>31039.002004</td>\n",
       "      <td>649.269775</td>\n",
       "    </tr>\n",
       "  </tbody>\n",
       "</table>\n",
       "</div>"
      ],
      "text/plain": [
       "            income      balance\n",
       "3194  11337.059246  1149.209836\n",
       "1507  51560.028101   396.820316\n",
       "3438  28262.868133   478.363326\n",
       "9707  29254.871016   452.367912\n",
       "9689  31039.002004   649.269775"
      ]
     },
     "metadata": {},
     "output_type": "display_data"
    },
    {
     "data": {
      "text/html": [
       "<div>\n",
       "<style scoped>\n",
       "    .dataframe tbody tr th:only-of-type {\n",
       "        vertical-align: middle;\n",
       "    }\n",
       "\n",
       "    .dataframe tbody tr th {\n",
       "        vertical-align: top;\n",
       "    }\n",
       "\n",
       "    .dataframe thead th {\n",
       "        text-align: right;\n",
       "    }\n",
       "</style>\n",
       "<table border=\"1\" class=\"dataframe\">\n",
       "  <thead>\n",
       "    <tr style=\"text-align: right;\">\n",
       "      <th></th>\n",
       "      <th>income</th>\n",
       "      <th>balance</th>\n",
       "    </tr>\n",
       "  </thead>\n",
       "  <tbody>\n",
       "    <tr>\n",
       "      <th>7878</th>\n",
       "      <td>41328.427624</td>\n",
       "      <td>676.572023</td>\n",
       "    </tr>\n",
       "    <tr>\n",
       "      <th>3224</th>\n",
       "      <td>49708.955252</td>\n",
       "      <td>702.276627</td>\n",
       "    </tr>\n",
       "    <tr>\n",
       "      <th>1919</th>\n",
       "      <td>29842.886050</td>\n",
       "      <td>595.065973</td>\n",
       "    </tr>\n",
       "    <tr>\n",
       "      <th>4432</th>\n",
       "      <td>46147.955753</td>\n",
       "      <td>825.287866</td>\n",
       "    </tr>\n",
       "    <tr>\n",
       "      <th>4835</th>\n",
       "      <td>23674.376304</td>\n",
       "      <td>1969.407748</td>\n",
       "    </tr>\n",
       "  </tbody>\n",
       "</table>\n",
       "</div>"
      ],
      "text/plain": [
       "            income      balance\n",
       "7878  41328.427624   676.572023\n",
       "3224  49708.955252   702.276627\n",
       "1919  29842.886050   595.065973\n",
       "4432  46147.955753   825.287866\n",
       "4835  23674.376304  1969.407748"
      ]
     },
     "metadata": {},
     "output_type": "display_data"
    },
    {
     "data": {
      "text/plain": [
       "3194    0\n",
       "1507    0\n",
       "3438    0\n",
       "9707    0\n",
       "9689    0\n",
       "Name: default, dtype: int64"
      ]
     },
     "metadata": {},
     "output_type": "display_data"
    },
    {
     "data": {
      "text/plain": [
       "7878    0\n",
       "3224    0\n",
       "1919    0\n",
       "4432    0\n",
       "4835    0\n",
       "Name: default, dtype: int64"
      ]
     },
     "metadata": {},
     "output_type": "display_data"
    }
   ],
   "source": [
    "# Random State 2\n",
    "X_train, X_test, y_train, y_test = train_test_split(X, y, test_size=0.3, random_state=2)\n",
    "print('Shape of training ', X_train.shape)\n",
    "print('Shape of testing ', X_test.shape)\n",
    "\n",
    "# Double check that the index of the train and test sets match\n",
    "display(X_train.head(), X_test.head(), y_train.head(), y_test.head())"
   ]
  },
  {
   "cell_type": "code",
   "execution_count": 24,
   "id": "cf29b2ee",
   "metadata": {},
   "outputs": [
    {
     "data": {
      "text/html": [
       "<style>#sk-container-id-3 {color: black;}#sk-container-id-3 pre{padding: 0;}#sk-container-id-3 div.sk-toggleable {background-color: white;}#sk-container-id-3 label.sk-toggleable__label {cursor: pointer;display: block;width: 100%;margin-bottom: 0;padding: 0.3em;box-sizing: border-box;text-align: center;}#sk-container-id-3 label.sk-toggleable__label-arrow:before {content: \"▸\";float: left;margin-right: 0.25em;color: #696969;}#sk-container-id-3 label.sk-toggleable__label-arrow:hover:before {color: black;}#sk-container-id-3 div.sk-estimator:hover label.sk-toggleable__label-arrow:before {color: black;}#sk-container-id-3 div.sk-toggleable__content {max-height: 0;max-width: 0;overflow: hidden;text-align: left;background-color: #f0f8ff;}#sk-container-id-3 div.sk-toggleable__content pre {margin: 0.2em;color: black;border-radius: 0.25em;background-color: #f0f8ff;}#sk-container-id-3 input.sk-toggleable__control:checked~div.sk-toggleable__content {max-height: 200px;max-width: 100%;overflow: auto;}#sk-container-id-3 input.sk-toggleable__control:checked~label.sk-toggleable__label-arrow:before {content: \"▾\";}#sk-container-id-3 div.sk-estimator input.sk-toggleable__control:checked~label.sk-toggleable__label {background-color: #d4ebff;}#sk-container-id-3 div.sk-label input.sk-toggleable__control:checked~label.sk-toggleable__label {background-color: #d4ebff;}#sk-container-id-3 input.sk-hidden--visually {border: 0;clip: rect(1px 1px 1px 1px);clip: rect(1px, 1px, 1px, 1px);height: 1px;margin: -1px;overflow: hidden;padding: 0;position: absolute;width: 1px;}#sk-container-id-3 div.sk-estimator {font-family: monospace;background-color: #f0f8ff;border: 1px dotted black;border-radius: 0.25em;box-sizing: border-box;margin-bottom: 0.5em;}#sk-container-id-3 div.sk-estimator:hover {background-color: #d4ebff;}#sk-container-id-3 div.sk-parallel-item::after {content: \"\";width: 100%;border-bottom: 1px solid gray;flex-grow: 1;}#sk-container-id-3 div.sk-label:hover label.sk-toggleable__label {background-color: #d4ebff;}#sk-container-id-3 div.sk-serial::before {content: \"\";position: absolute;border-left: 1px solid gray;box-sizing: border-box;top: 0;bottom: 0;left: 50%;z-index: 0;}#sk-container-id-3 div.sk-serial {display: flex;flex-direction: column;align-items: center;background-color: white;padding-right: 0.2em;padding-left: 0.2em;position: relative;}#sk-container-id-3 div.sk-item {position: relative;z-index: 1;}#sk-container-id-3 div.sk-parallel {display: flex;align-items: stretch;justify-content: center;background-color: white;position: relative;}#sk-container-id-3 div.sk-item::before, #sk-container-id-3 div.sk-parallel-item::before {content: \"\";position: absolute;border-left: 1px solid gray;box-sizing: border-box;top: 0;bottom: 0;left: 50%;z-index: -1;}#sk-container-id-3 div.sk-parallel-item {display: flex;flex-direction: column;z-index: 1;position: relative;background-color: white;}#sk-container-id-3 div.sk-parallel-item:first-child::after {align-self: flex-end;width: 50%;}#sk-container-id-3 div.sk-parallel-item:last-child::after {align-self: flex-start;width: 50%;}#sk-container-id-3 div.sk-parallel-item:only-child::after {width: 0;}#sk-container-id-3 div.sk-dashed-wrapped {border: 1px dashed gray;margin: 0 0.4em 0.5em 0.4em;box-sizing: border-box;padding-bottom: 0.4em;background-color: white;}#sk-container-id-3 div.sk-label label {font-family: monospace;font-weight: bold;display: inline-block;line-height: 1.2em;}#sk-container-id-3 div.sk-label-container {text-align: center;}#sk-container-id-3 div.sk-container {/* jupyter's `normalize.less` sets `[hidden] { display: none; }` but bootstrap.min.css set `[hidden] { display: none !important; }` so we also need the `!important` here to be able to override the default hidden behavior on the sphinx rendered scikit-learn.org. See: https://github.com/scikit-learn/scikit-learn/issues/21755 */display: inline-block !important;position: relative;}#sk-container-id-3 div.sk-text-repr-fallback {display: none;}</style><div id=\"sk-container-id-3\" class=\"sk-top-container\"><div class=\"sk-text-repr-fallback\"><pre>LogisticRegression()</pre><b>In a Jupyter environment, please rerun this cell to show the HTML representation or trust the notebook. <br />On GitHub, the HTML representation is unable to render, please try loading this page with nbviewer.org.</b></div><div class=\"sk-container\" hidden><div class=\"sk-item\"><div class=\"sk-estimator sk-toggleable\"><input class=\"sk-toggleable__control sk-hidden--visually\" id=\"sk-estimator-id-3\" type=\"checkbox\" checked><label for=\"sk-estimator-id-3\" class=\"sk-toggleable__label sk-toggleable__label-arrow\">LogisticRegression</label><div class=\"sk-toggleable__content\"><pre>LogisticRegression()</pre></div></div></div></div></div>"
      ],
      "text/plain": [
       "LogisticRegression()"
      ]
     },
     "execution_count": 24,
     "metadata": {},
     "output_type": "execute_result"
    }
   ],
   "source": [
    "# fit the logisitc regression on training data\n",
    "logisticRegr = LogisticRegression()\n",
    "logisticRegr.fit(X_train, y_train)"
   ]
  },
  {
   "cell_type": "code",
   "execution_count": 25,
   "id": "d0fbe196",
   "metadata": {},
   "outputs": [],
   "source": [
    "# obtain the predictions\n",
    "y_pred_log = logisticRegr.predict_proba(X_test)\n",
    "\n",
    "y_pred_class = (y_pred_log[:, 1] > 0.5).astype(int)"
   ]
  },
  {
   "cell_type": "code",
   "execution_count": 26,
   "id": "be760bf4",
   "metadata": {},
   "outputs": [
    {
     "name": "stdout",
     "output_type": "stream",
     "text": [
      "Logit part a accuracy: 97.37%\n",
      "Logit part b accuracy: 96.83%\n",
      "Logit part c_1 accuracy: 97.63%\n"
     ]
    }
   ],
   "source": [
    "accuracies['Logit part c_1'] = accuracy_score(y_test, y_pred_class)\n",
    "\n",
    "# Print the accuracies\n",
    "for model, accuracy in accuracies.items():\n",
    "    print(f'{model} accuracy: {round(accuracy, 4)*100}%')"
   ]
  },
  {
   "cell_type": "code",
   "execution_count": 27,
   "id": "f965f9e0",
   "metadata": {},
   "outputs": [
    {
     "data": {
      "image/png": "[encoded data removed]",
      "text/plain": [
       "<Figure size 640x480 with 2 Axes>"
      ]
     },
     "metadata": {},
     "output_type": "display_data"
    }
   ],
   "source": [
    "# Confusion Matrix\n",
    "ax = sns.heatmap(\n",
    "    confusion_matrix(\n",
    "        y_test,\n",
    "        y_pred_class,\n",
    "        normalize = 'true'\n",
    "    ),\n",
    "    annot=True,\n",
    "    fmt='.2%',\n",
    "    cmap='Blues'\n",
    ")\n",
    "\n",
    "ax.set_title('Logistic: Confusion Matrix with labels\\n')\n",
    "ax.set_xlabel('\\nPredicted Values')\n",
    "ax.set_ylabel('Actual Values')\n",
    "\n",
    "ax.xaxis.set_ticklabels(['False','True'])\n",
    "ax.yaxis.set_ticklabels(['False','True'])\n",
    "\n",
    "plt.show()"
   ]
  },
  {
   "cell_type": "code",
   "execution_count": 28,
   "id": "4e9772b0",
   "metadata": {},
   "outputs": [
    {
     "name": "stdout",
     "output_type": "stream",
     "text": [
      "Validation error for logistic model part c_1 is 2.37 %\n"
     ]
    }
   ],
   "source": [
    "# computing the validation error\n",
    "print('Validation error for logistic model part c_1 is', round((1 - accuracy_score(y_test, y_pred_class)) * 100, 2), '%')"
   ]
  },
  {
   "cell_type": "code",
   "execution_count": 29,
   "id": "baef00ce",
   "metadata": {},
   "outputs": [
    {
     "name": "stdout",
     "output_type": "stream",
     "text": [
      "Shape of training  (7000, 2)\n",
      "Shape of testing  (3000, 2)\n"
     ]
    },
    {
     "data": {
      "text/html": [
       "<div>\n",
       "<style scoped>\n",
       "    .dataframe tbody tr th:only-of-type {\n",
       "        vertical-align: middle;\n",
       "    }\n",
       "\n",
       "    .dataframe tbody tr th {\n",
       "        vertical-align: top;\n",
       "    }\n",
       "\n",
       "    .dataframe thead th {\n",
       "        text-align: right;\n",
       "    }\n",
       "</style>\n",
       "<table border=\"1\" class=\"dataframe\">\n",
       "  <thead>\n",
       "    <tr style=\"text-align: right;\">\n",
       "      <th></th>\n",
       "      <th>income</th>\n",
       "      <th>balance</th>\n",
       "    </tr>\n",
       "  </thead>\n",
       "  <tbody>\n",
       "    <tr>\n",
       "      <th>3696</th>\n",
       "      <td>42199.967626</td>\n",
       "      <td>107.706672</td>\n",
       "    </tr>\n",
       "    <tr>\n",
       "      <th>3739</th>\n",
       "      <td>16745.066849</td>\n",
       "      <td>901.175244</td>\n",
       "    </tr>\n",
       "    <tr>\n",
       "      <th>2172</th>\n",
       "      <td>35133.070407</td>\n",
       "      <td>473.961439</td>\n",
       "    </tr>\n",
       "    <tr>\n",
       "      <th>70</th>\n",
       "      <td>31577.615126</td>\n",
       "      <td>597.757142</td>\n",
       "    </tr>\n",
       "    <tr>\n",
       "      <th>3980</th>\n",
       "      <td>17534.467078</td>\n",
       "      <td>886.348540</td>\n",
       "    </tr>\n",
       "  </tbody>\n",
       "</table>\n",
       "</div>"
      ],
      "text/plain": [
       "            income     balance\n",
       "3696  42199.967626  107.706672\n",
       "3739  16745.066849  901.175244\n",
       "2172  35133.070407  473.961439\n",
       "70    31577.615126  597.757142\n",
       "3980  17534.467078  886.348540"
      ]
     },
     "metadata": {},
     "output_type": "display_data"
    },
    {
     "data": {
      "text/html": [
       "<div>\n",
       "<style scoped>\n",
       "    .dataframe tbody tr th:only-of-type {\n",
       "        vertical-align: middle;\n",
       "    }\n",
       "\n",
       "    .dataframe tbody tr th {\n",
       "        vertical-align: top;\n",
       "    }\n",
       "\n",
       "    .dataframe thead th {\n",
       "        text-align: right;\n",
       "    }\n",
       "</style>\n",
       "<table border=\"1\" class=\"dataframe\">\n",
       "  <thead>\n",
       "    <tr style=\"text-align: right;\">\n",
       "      <th></th>\n",
       "      <th>income</th>\n",
       "      <th>balance</th>\n",
       "    </tr>\n",
       "  </thead>\n",
       "  <tbody>\n",
       "    <tr>\n",
       "      <th>739</th>\n",
       "      <td>30290.806505</td>\n",
       "      <td>961.315769</td>\n",
       "    </tr>\n",
       "    <tr>\n",
       "      <th>9426</th>\n",
       "      <td>47099.206874</td>\n",
       "      <td>1375.384954</td>\n",
       "    </tr>\n",
       "    <tr>\n",
       "      <th>8200</th>\n",
       "      <td>47924.697911</td>\n",
       "      <td>87.948652</td>\n",
       "    </tr>\n",
       "    <tr>\n",
       "      <th>5880</th>\n",
       "      <td>20054.898497</td>\n",
       "      <td>1085.152966</td>\n",
       "    </tr>\n",
       "    <tr>\n",
       "      <th>9114</th>\n",
       "      <td>37410.376383</td>\n",
       "      <td>1060.972920</td>\n",
       "    </tr>\n",
       "  </tbody>\n",
       "</table>\n",
       "</div>"
      ],
      "text/plain": [
       "            income      balance\n",
       "739   30290.806505   961.315769\n",
       "9426  47099.206874  1375.384954\n",
       "8200  47924.697911    87.948652\n",
       "5880  20054.898497  1085.152966\n",
       "9114  37410.376383  1060.972920"
      ]
     },
     "metadata": {},
     "output_type": "display_data"
    },
    {
     "data": {
      "text/plain": [
       "3696    0\n",
       "3739    0\n",
       "2172    0\n",
       "70      0\n",
       "3980    0\n",
       "Name: default, dtype: int64"
      ]
     },
     "metadata": {},
     "output_type": "display_data"
    },
    {
     "data": {
      "text/plain": [
       "739     0\n",
       "9426    0\n",
       "8200    0\n",
       "5880    0\n",
       "9114    0\n",
       "Name: default, dtype: int64"
      ]
     },
     "metadata": {},
     "output_type": "display_data"
    }
   ],
   "source": [
    "# Random State 6\n",
    "X_train, X_test, y_train, y_test = train_test_split(X, y, test_size=0.3, random_state=6)\n",
    "print('Shape of training ', X_train.shape)\n",
    "print('Shape of testing ', X_test.shape)\n",
    "\n",
    "# Double check that the index of the train and test sets match\n",
    "display(X_train.head(), X_test.head(), y_train.head(), y_test.head())"
   ]
  },
  {
   "cell_type": "code",
   "execution_count": 30,
   "id": "1299d3d9",
   "metadata": {},
   "outputs": [
    {
     "data": {
      "text/html": [
       "<style>#sk-container-id-4 {color: black;}#sk-container-id-4 pre{padding: 0;}#sk-container-id-4 div.sk-toggleable {background-color: white;}#sk-container-id-4 label.sk-toggleable__label {cursor: pointer;display: block;width: 100%;margin-bottom: 0;padding: 0.3em;box-sizing: border-box;text-align: center;}#sk-container-id-4 label.sk-toggleable__label-arrow:before {content: \"▸\";float: left;margin-right: 0.25em;color: #696969;}#sk-container-id-4 label.sk-toggleable__label-arrow:hover:before {color: black;}#sk-container-id-4 div.sk-estimator:hover label.sk-toggleable__label-arrow:before {color: black;}#sk-container-id-4 div.sk-toggleable__content {max-height: 0;max-width: 0;overflow: hidden;text-align: left;background-color: #f0f8ff;}#sk-container-id-4 div.sk-toggleable__content pre {margin: 0.2em;color: black;border-radius: 0.25em;background-color: #f0f8ff;}#sk-container-id-4 input.sk-toggleable__control:checked~div.sk-toggleable__content {max-height: 200px;max-width: 100%;overflow: auto;}#sk-container-id-4 input.sk-toggleable__control:checked~label.sk-toggleable__label-arrow:before {content: \"▾\";}#sk-container-id-4 div.sk-estimator input.sk-toggleable__control:checked~label.sk-toggleable__label {background-color: #d4ebff;}#sk-container-id-4 div.sk-label input.sk-toggleable__control:checked~label.sk-toggleable__label {background-color: #d4ebff;}#sk-container-id-4 input.sk-hidden--visually {border: 0;clip: rect(1px 1px 1px 1px);clip: rect(1px, 1px, 1px, 1px);height: 1px;margin: -1px;overflow: hidden;padding: 0;position: absolute;width: 1px;}#sk-container-id-4 div.sk-estimator {font-family: monospace;background-color: #f0f8ff;border: 1px dotted black;border-radius: 0.25em;box-sizing: border-box;margin-bottom: 0.5em;}#sk-container-id-4 div.sk-estimator:hover {background-color: #d4ebff;}#sk-container-id-4 div.sk-parallel-item::after {content: \"\";width: 100%;border-bottom: 1px solid gray;flex-grow: 1;}#sk-container-id-4 div.sk-label:hover label.sk-toggleable__label {background-color: #d4ebff;}#sk-container-id-4 div.sk-serial::before {content: \"\";position: absolute;border-left: 1px solid gray;box-sizing: border-box;top: 0;bottom: 0;left: 50%;z-index: 0;}#sk-container-id-4 div.sk-serial {display: flex;flex-direction: column;align-items: center;background-color: white;padding-right: 0.2em;padding-left: 0.2em;position: relative;}#sk-container-id-4 div.sk-item {position: relative;z-index: 1;}#sk-container-id-4 div.sk-parallel {display: flex;align-items: stretch;justify-content: center;background-color: white;position: relative;}#sk-container-id-4 div.sk-item::before, #sk-container-id-4 div.sk-parallel-item::before {content: \"\";position: absolute;border-left: 1px solid gray;box-sizing: border-box;top: 0;bottom: 0;left: 50%;z-index: -1;}#sk-container-id-4 div.sk-parallel-item {display: flex;flex-direction: column;z-index: 1;position: relative;background-color: white;}#sk-container-id-4 div.sk-parallel-item:first-child::after {align-self: flex-end;width: 50%;}#sk-container-id-4 div.sk-parallel-item:last-child::after {align-self: flex-start;width: 50%;}#sk-container-id-4 div.sk-parallel-item:only-child::after {width: 0;}#sk-container-id-4 div.sk-dashed-wrapped {border: 1px dashed gray;margin: 0 0.4em 0.5em 0.4em;box-sizing: border-box;padding-bottom: 0.4em;background-color: white;}#sk-container-id-4 div.sk-label label {font-family: monospace;font-weight: bold;display: inline-block;line-height: 1.2em;}#sk-container-id-4 div.sk-label-container {text-align: center;}#sk-container-id-4 div.sk-container {/* jupyter's `normalize.less` sets `[hidden] { display: none; }` but bootstrap.min.css set `[hidden] { display: none !important; }` so we also need the `!important` here to be able to override the default hidden behavior on the sphinx rendered scikit-learn.org. See: https://github.com/scikit-learn/scikit-learn/issues/21755 */display: inline-block !important;position: relative;}#sk-container-id-4 div.sk-text-repr-fallback {display: none;}</style><div id=\"sk-container-id-4\" class=\"sk-top-container\"><div class=\"sk-text-repr-fallback\"><pre>LogisticRegression()</pre><b>In a Jupyter environment, please rerun this cell to show the HTML representation or trust the notebook. <br />On GitHub, the HTML representation is unable to render, please try loading this page with nbviewer.org.</b></div><div class=\"sk-container\" hidden><div class=\"sk-item\"><div class=\"sk-estimator sk-toggleable\"><input class=\"sk-toggleable__control sk-hidden--visually\" id=\"sk-estimator-id-4\" type=\"checkbox\" checked><label for=\"sk-estimator-id-4\" class=\"sk-toggleable__label sk-toggleable__label-arrow\">LogisticRegression</label><div class=\"sk-toggleable__content\"><pre>LogisticRegression()</pre></div></div></div></div></div>"
      ],
      "text/plain": [
       "LogisticRegression()"
      ]
     },
     "execution_count": 30,
     "metadata": {},
     "output_type": "execute_result"
    }
   ],
   "source": [
    "# fit the logisitc regression on training data\n",
    "logisticRegr = LogisticRegression()\n",
    "logisticRegr.fit(X_train, y_train)"
   ]
  },
  {
   "cell_type": "code",
   "execution_count": 31,
   "id": "d8499022",
   "metadata": {},
   "outputs": [],
   "source": [
    "# obtain the predictions\n",
    "y_pred_log = logisticRegr.predict_proba(X_test)\n",
    "\n",
    "y_pred_class = (y_pred_log[:, 1] > 0.5).astype(int)"
   ]
  },
  {
   "cell_type": "code",
   "execution_count": 32,
   "id": "bfdbacf2",
   "metadata": {},
   "outputs": [
    {
     "name": "stdout",
     "output_type": "stream",
     "text": [
      "Logit part a accuracy: 97.37%\n",
      "Logit part b accuracy: 96.83%\n",
      "Logit part c_1 accuracy: 97.63%\n",
      "Logit part c_2 accuracy: 97.53%\n"
     ]
    }
   ],
   "source": [
    "accuracies['Logit part c_2'] = accuracy_score(y_test, y_pred_class)\n",
    "\n",
    "# Print the accuracies\n",
    "for model, accuracy in accuracies.items():\n",
    "    print(f'{model} accuracy: {round(accuracy, 4)*100}%')"
   ]
  },
  {
   "cell_type": "code",
   "execution_count": 33,
   "id": "0c5f8cdb",
   "metadata": {},
   "outputs": [
    {
     "data": {
      "image/png": "[encoded data removed]",
      "text/plain": [
       "<Figure size 640x480 with 2 Axes>"
      ]
     },
     "metadata": {},
     "output_type": "display_data"
    }
   ],
   "source": [
    "# Confusion Matrix\n",
    "ax = sns.heatmap(\n",
    "    confusion_matrix(\n",
    "        y_test,\n",
    "        y_pred_class,\n",
    "        normalize = 'true'\n",
    "    ),\n",
    "    annot=True,\n",
    "    fmt='.2%',\n",
    "    cmap='Blues'\n",
    ")\n",
    "\n",
    "ax.set_title('Logistic: Confusion Matrix with labels\\n')\n",
    "ax.set_xlabel('\\nPredicted Values')\n",
    "ax.set_ylabel('Actual Values')\n",
    "\n",
    "ax.xaxis.set_ticklabels(['False','True'])\n",
    "ax.yaxis.set_ticklabels(['False','True'])\n",
    "\n",
    "plt.show()"
   ]
  },
  {
   "cell_type": "code",
   "execution_count": 34,
   "id": "d195b106",
   "metadata": {},
   "outputs": [
    {
     "name": "stdout",
     "output_type": "stream",
     "text": [
      "Validation error for logistic model part c_2 is 2.47 %\n"
     ]
    }
   ],
   "source": [
    "# computing the validation error\n",
    "print('Validation error for logistic model part c_2 is', round((1 - accuracy_score(y_test, y_pred_class)) * 100, 2), '%')"
   ]
  },
  {
   "cell_type": "code",
   "execution_count": 35,
   "id": "c20ea50f",
   "metadata": {},
   "outputs": [
    {
     "name": "stdout",
     "output_type": "stream",
     "text": [
      "Shape of training  (7000, 2)\n",
      "Shape of testing  (3000, 2)\n"
     ]
    },
    {
     "data": {
      "text/html": [
       "<div>\n",
       "<style scoped>\n",
       "    .dataframe tbody tr th:only-of-type {\n",
       "        vertical-align: middle;\n",
       "    }\n",
       "\n",
       "    .dataframe tbody tr th {\n",
       "        vertical-align: top;\n",
       "    }\n",
       "\n",
       "    .dataframe thead th {\n",
       "        text-align: right;\n",
       "    }\n",
       "</style>\n",
       "<table border=\"1\" class=\"dataframe\">\n",
       "  <thead>\n",
       "    <tr style=\"text-align: right;\">\n",
       "      <th></th>\n",
       "      <th>income</th>\n",
       "      <th>balance</th>\n",
       "    </tr>\n",
       "  </thead>\n",
       "  <tbody>\n",
       "    <tr>\n",
       "      <th>3393</th>\n",
       "      <td>29217.352343</td>\n",
       "      <td>619.903822</td>\n",
       "    </tr>\n",
       "    <tr>\n",
       "      <th>7258</th>\n",
       "      <td>56291.602012</td>\n",
       "      <td>1067.379034</td>\n",
       "    </tr>\n",
       "    <tr>\n",
       "      <th>7768</th>\n",
       "      <td>25272.486067</td>\n",
       "      <td>838.653017</td>\n",
       "    </tr>\n",
       "    <tr>\n",
       "      <th>1543</th>\n",
       "      <td>56141.113756</td>\n",
       "      <td>990.674804</td>\n",
       "    </tr>\n",
       "    <tr>\n",
       "      <th>1992</th>\n",
       "      <td>14213.705583</td>\n",
       "      <td>485.868910</td>\n",
       "    </tr>\n",
       "  </tbody>\n",
       "</table>\n",
       "</div>"
      ],
      "text/plain": [
       "            income      balance\n",
       "3393  29217.352343   619.903822\n",
       "7258  56291.602012  1067.379034\n",
       "7768  25272.486067   838.653017\n",
       "1543  56141.113756   990.674804\n",
       "1992  14213.705583   485.868910"
      ]
     },
     "metadata": {},
     "output_type": "display_data"
    },
    {
     "data": {
      "text/html": [
       "<div>\n",
       "<style scoped>\n",
       "    .dataframe tbody tr th:only-of-type {\n",
       "        vertical-align: middle;\n",
       "    }\n",
       "\n",
       "    .dataframe tbody tr th {\n",
       "        vertical-align: top;\n",
       "    }\n",
       "\n",
       "    .dataframe thead th {\n",
       "        text-align: right;\n",
       "    }\n",
       "</style>\n",
       "<table border=\"1\" class=\"dataframe\">\n",
       "  <thead>\n",
       "    <tr style=\"text-align: right;\">\n",
       "      <th></th>\n",
       "      <th>income</th>\n",
       "      <th>balance</th>\n",
       "    </tr>\n",
       "  </thead>\n",
       "  <tbody>\n",
       "    <tr>\n",
       "      <th>3644</th>\n",
       "      <td>19335.634036</td>\n",
       "      <td>894.725491</td>\n",
       "    </tr>\n",
       "    <tr>\n",
       "      <th>9184</th>\n",
       "      <td>15082.677111</td>\n",
       "      <td>952.887131</td>\n",
       "    </tr>\n",
       "    <tr>\n",
       "      <th>520</th>\n",
       "      <td>21218.303520</td>\n",
       "      <td>1028.953640</td>\n",
       "    </tr>\n",
       "    <tr>\n",
       "      <th>5685</th>\n",
       "      <td>43646.911717</td>\n",
       "      <td>0.000000</td>\n",
       "    </tr>\n",
       "    <tr>\n",
       "      <th>2401</th>\n",
       "      <td>19649.484429</td>\n",
       "      <td>1610.015858</td>\n",
       "    </tr>\n",
       "  </tbody>\n",
       "</table>\n",
       "</div>"
      ],
      "text/plain": [
       "            income      balance\n",
       "3644  19335.634036   894.725491\n",
       "9184  15082.677111   952.887131\n",
       "520   21218.303520  1028.953640\n",
       "5685  43646.911717     0.000000\n",
       "2401  19649.484429  1610.015858"
      ]
     },
     "metadata": {},
     "output_type": "display_data"
    },
    {
     "data": {
      "text/plain": [
       "3393    0\n",
       "7258    0\n",
       "7768    0\n",
       "1543    0\n",
       "1992    0\n",
       "Name: default, dtype: int64"
      ]
     },
     "metadata": {},
     "output_type": "display_data"
    },
    {
     "data": {
      "text/plain": [
       "3644    0\n",
       "9184    0\n",
       "520     0\n",
       "5685    0\n",
       "2401    0\n",
       "Name: default, dtype: int64"
      ]
     },
     "metadata": {},
     "output_type": "display_data"
    }
   ],
   "source": [
    "# Random State 9\n",
    "X_train, X_test, y_train, y_test = train_test_split(X, y, test_size=0.3, random_state=9)\n",
    "print('Shape of training ', X_train.shape)\n",
    "print('Shape of testing ', X_test.shape)\n",
    "\n",
    "# Double check that the index of the train and test sets match\n",
    "display(X_train.head(), X_test.head(), y_train.head(), y_test.head())"
   ]
  },
  {
   "cell_type": "code",
   "execution_count": 36,
   "id": "1adbfeef",
   "metadata": {},
   "outputs": [
    {
     "data": {
      "text/html": [
       "<style>#sk-container-id-5 {color: black;}#sk-container-id-5 pre{padding: 0;}#sk-container-id-5 div.sk-toggleable {background-color: white;}#sk-container-id-5 label.sk-toggleable__label {cursor: pointer;display: block;width: 100%;margin-bottom: 0;padding: 0.3em;box-sizing: border-box;text-align: center;}#sk-container-id-5 label.sk-toggleable__label-arrow:before {content: \"▸\";float: left;margin-right: 0.25em;color: #696969;}#sk-container-id-5 label.sk-toggleable__label-arrow:hover:before {color: black;}#sk-container-id-5 div.sk-estimator:hover label.sk-toggleable__label-arrow:before {color: black;}#sk-container-id-5 div.sk-toggleable__content {max-height: 0;max-width: 0;overflow: hidden;text-align: left;background-color: #f0f8ff;}#sk-container-id-5 div.sk-toggleable__content pre {margin: 0.2em;color: black;border-radius: 0.25em;background-color: #f0f8ff;}#sk-container-id-5 input.sk-toggleable__control:checked~div.sk-toggleable__content {max-height: 200px;max-width: 100%;overflow: auto;}#sk-container-id-5 input.sk-toggleable__control:checked~label.sk-toggleable__label-arrow:before {content: \"▾\";}#sk-container-id-5 div.sk-estimator input.sk-toggleable__control:checked~label.sk-toggleable__label {background-color: #d4ebff;}#sk-container-id-5 div.sk-label input.sk-toggleable__control:checked~label.sk-toggleable__label {background-color: #d4ebff;}#sk-container-id-5 input.sk-hidden--visually {border: 0;clip: rect(1px 1px 1px 1px);clip: rect(1px, 1px, 1px, 1px);height: 1px;margin: -1px;overflow: hidden;padding: 0;position: absolute;width: 1px;}#sk-container-id-5 div.sk-estimator {font-family: monospace;background-color: #f0f8ff;border: 1px dotted black;border-radius: 0.25em;box-sizing: border-box;margin-bottom: 0.5em;}#sk-container-id-5 div.sk-estimator:hover {background-color: #d4ebff;}#sk-container-id-5 div.sk-parallel-item::after {content: \"\";width: 100%;border-bottom: 1px solid gray;flex-grow: 1;}#sk-container-id-5 div.sk-label:hover label.sk-toggleable__label {background-color: #d4ebff;}#sk-container-id-5 div.sk-serial::before {content: \"\";position: absolute;border-left: 1px solid gray;box-sizing: border-box;top: 0;bottom: 0;left: 50%;z-index: 0;}#sk-container-id-5 div.sk-serial {display: flex;flex-direction: column;align-items: center;background-color: white;padding-right: 0.2em;padding-left: 0.2em;position: relative;}#sk-container-id-5 div.sk-item {position: relative;z-index: 1;}#sk-container-id-5 div.sk-parallel {display: flex;align-items: stretch;justify-content: center;background-color: white;position: relative;}#sk-container-id-5 div.sk-item::before, #sk-container-id-5 div.sk-parallel-item::before {content: \"\";position: absolute;border-left: 1px solid gray;box-sizing: border-box;top: 0;bottom: 0;left: 50%;z-index: -1;}#sk-container-id-5 div.sk-parallel-item {display: flex;flex-direction: column;z-index: 1;position: relative;background-color: white;}#sk-container-id-5 div.sk-parallel-item:first-child::after {align-self: flex-end;width: 50%;}#sk-container-id-5 div.sk-parallel-item:last-child::after {align-self: flex-start;width: 50%;}#sk-container-id-5 div.sk-parallel-item:only-child::after {width: 0;}#sk-container-id-5 div.sk-dashed-wrapped {border: 1px dashed gray;margin: 0 0.4em 0.5em 0.4em;box-sizing: border-box;padding-bottom: 0.4em;background-color: white;}#sk-container-id-5 div.sk-label label {font-family: monospace;font-weight: bold;display: inline-block;line-height: 1.2em;}#sk-container-id-5 div.sk-label-container {text-align: center;}#sk-container-id-5 div.sk-container {/* jupyter's `normalize.less` sets `[hidden] { display: none; }` but bootstrap.min.css set `[hidden] { display: none !important; }` so we also need the `!important` here to be able to override the default hidden behavior on the sphinx rendered scikit-learn.org. See: https://github.com/scikit-learn/scikit-learn/issues/21755 */display: inline-block !important;position: relative;}#sk-container-id-5 div.sk-text-repr-fallback {display: none;}</style><div id=\"sk-container-id-5\" class=\"sk-top-container\"><div class=\"sk-text-repr-fallback\"><pre>LogisticRegression()</pre><b>In a Jupyter environment, please rerun this cell to show the HTML representation or trust the notebook. <br />On GitHub, the HTML representation is unable to render, please try loading this page with nbviewer.org.</b></div><div class=\"sk-container\" hidden><div class=\"sk-item\"><div class=\"sk-estimator sk-toggleable\"><input class=\"sk-toggleable__control sk-hidden--visually\" id=\"sk-estimator-id-5\" type=\"checkbox\" checked><label for=\"sk-estimator-id-5\" class=\"sk-toggleable__label sk-toggleable__label-arrow\">LogisticRegression</label><div class=\"sk-toggleable__content\"><pre>LogisticRegression()</pre></div></div></div></div></div>"
      ],
      "text/plain": [
       "LogisticRegression()"
      ]
     },
     "execution_count": 36,
     "metadata": {},
     "output_type": "execute_result"
    }
   ],
   "source": [
    "# fit the logisitc regression on training data\n",
    "logisticRegr = LogisticRegression()\n",
    "logisticRegr.fit(X_train, y_train)"
   ]
  },
  {
   "cell_type": "code",
   "execution_count": 37,
   "id": "3457c6e6",
   "metadata": {},
   "outputs": [],
   "source": [
    "# obtain the predictions\n",
    "y_pred_log = logisticRegr.predict_proba(X_test)\n",
    "\n",
    "y_pred_class = (y_pred_log[:, 1] > 0.5).astype(int)"
   ]
  },
  {
   "cell_type": "code",
   "execution_count": 38,
   "id": "a72203af",
   "metadata": {},
   "outputs": [
    {
     "name": "stdout",
     "output_type": "stream",
     "text": [
      "Logit part a accuracy: 97.37%\n",
      "Logit part b accuracy: 96.83%\n",
      "Logit part c_1 accuracy: 97.63%\n",
      "Logit part c_2 accuracy: 97.53%\n",
      "Logit part c_3 accuracy: 96.93%\n"
     ]
    }
   ],
   "source": [
    "accuracies['Logit part c_3'] = accuracy_score(y_test, y_pred_class)\n",
    "\n",
    "# Print the accuracies\n",
    "for model, accuracy in accuracies.items():\n",
    "    print(f'{model} accuracy: {round(accuracy, 4)*100}%')"
   ]
  },
  {
   "cell_type": "code",
   "execution_count": 39,
   "id": "310fc70e",
   "metadata": {},
   "outputs": [
    {
     "data": {
      "image/png": "[encoded data removed]",
      "text/plain": [
       "<Figure size 640x480 with 2 Axes>"
      ]
     },
     "metadata": {},
     "output_type": "display_data"
    }
   ],
   "source": [
    "# Confusion Matrix\n",
    "ax = sns.heatmap(\n",
    "    confusion_matrix(\n",
    "        y_test,\n",
    "        y_pred_class,\n",
    "        normalize = 'true'\n",
    "    ),\n",
    "    annot=True,\n",
    "    fmt='.2%',\n",
    "    cmap='Blues'\n",
    ")\n",
    "\n",
    "ax.set_title('Logistic: Confusion Matrix with labels\\n')\n",
    "ax.set_xlabel('\\nPredicted Values')\n",
    "ax.set_ylabel('Actual Values')\n",
    "\n",
    "ax.xaxis.set_ticklabels(['False','True'])\n",
    "ax.yaxis.set_ticklabels(['False','True'])\n",
    "\n",
    "plt.show()"
   ]
  },
  {
   "cell_type": "code",
   "execution_count": 40,
   "id": "de973b6b",
   "metadata": {},
   "outputs": [
    {
     "name": "stdout",
     "output_type": "stream",
     "text": [
      "Validation error for logistic model part c_3 is 3.07 %\n"
     ]
    }
   ],
   "source": [
    "# computing the validation error\n",
    "print('Validation error for logistic model part c_3 is', round((1 - accuracy_score(y_test, y_pred_class)) * 100, 2), '%')"
   ]
  },
  {
   "cell_type": "markdown",
   "id": "918a0504",
   "metadata": {},
   "source": [
    "**Conclusion**: By employing three distinct splits (validation approach) of the observations with random states 2, 6, and 9, we obtained validation errors for logistic models of 2.37%, 2.47%, and 3.07%, respectively. These validation errors demonstrate consistency and fall within the same order of magnitude. The validation estimate of the test error rate be highly variable, depending on precisely which observations are included in the training set and which observations are included in the validation set. Our results indicate that the model performs reliably across different random splits of the data. The slight variations in error rates suggest that the model's predictive performance is stable and not highly influenced by the specific composition of training and testing sets. This consistency is indicative of the robustness of the model, demonstrating its ability to generalize well to new, unseen data. Furthermore, the low validation errors across different splits imply that the logistic model is effective in making accurate predictions. The model appears to generalize reliably, as evidenced by its ability to maintain low error rates across various random splits. This consistency is a positive indication that the model is not overfitting to the training data and can reliably predict whether default occurs in the dataset. Overall, these results suggest that the logistic model is well-suited for the classification task, and its reliable performance across different data splits instills confidence in its ability to generalize and make accurate predictions on new observations.  "
   ]
  },
  {
   "cell_type": "markdown",
   "id": "bbb708b8",
   "metadata": {},
   "source": [
    "**Note:** The mean of Validation error is 2.63 and the SD is 0.3785. In the validation approach, only a subset of the observations - those that are included in the training set rather than in the validation set - are used to fit the model. Since statistical methods tend to perform worse when trained on fewer observations, this suggests that the validation set error rate may tend to _overestimate_ the test error rate for the model fit on the entire data set. When comparing the validation errors obtained from part c, which involves cross-validation by splitting the data, with those from part a, where the entire dataset is used for training, we observe that only one validation error from part c (specifically, with a random state of 9) is higher than that from part a. This suggests that, in general, the cross-validation approach tends to provide a slightly higher estimate of the test error compared to using the entire dataset in part a. This discrepancy arises because the cross-validation method utilizes only a subset of observations for training and validation in each split, potentially leading to a more conservative estimate of the model's performance on unseen data. It implies that with more cross-validation iterations and different data splits, we might observe a consistent trend of the cross-validation approach tending to overestimate the test error, given its reliance on a smaller subset of observations compared to the entirety of the dataset used in part a."
   ]
  },
  {
   "cell_type": "markdown",
   "id": "5ad21f64",
   "metadata": {},
   "source": [
    "#### d. Now consider a logistic regression model that predicts the probability of default using income, balance, and a dummy variable for student. Estimate the test error for this model using the validation set approach. Comment on whether or not including a dummy variable for student leads to a reduction in the test error rate."
   ]
  },
  {
   "cell_type": "code",
   "execution_count": 41,
   "id": "5d4e5b94",
   "metadata": {},
   "outputs": [],
   "source": [
    "# Create indicator 1 if Student 'Yes' and 0 if Student 'No'\n",
    "df['student'] = df['student'].map(encoding_dict)"
   ]
  },
  {
   "cell_type": "code",
   "execution_count": 45,
   "id": "5bb7e023",
   "metadata": {},
   "outputs": [
    {
     "name": "stdout",
     "output_type": "stream",
     "text": [
      "Shape of training  (7000, 3)\n",
      "Shape of testing  (3000, 3)\n"
     ]
    },
    {
     "data": {
      "text/html": [
       "<div>\n",
       "<style scoped>\n",
       "    .dataframe tbody tr th:only-of-type {\n",
       "        vertical-align: middle;\n",
       "    }\n",
       "\n",
       "    .dataframe tbody tr th {\n",
       "        vertical-align: top;\n",
       "    }\n",
       "\n",
       "    .dataframe thead th {\n",
       "        text-align: right;\n",
       "    }\n",
       "</style>\n",
       "<table border=\"1\" class=\"dataframe\">\n",
       "  <thead>\n",
       "    <tr style=\"text-align: right;\">\n",
       "      <th></th>\n",
       "      <th>student</th>\n",
       "      <th>balance</th>\n",
       "      <th>income</th>\n",
       "    </tr>\n",
       "  </thead>\n",
       "  <tbody>\n",
       "    <tr>\n",
       "      <th>9069</th>\n",
       "      <td>0</td>\n",
       "      <td>0.000000</td>\n",
       "      <td>41239.020510</td>\n",
       "    </tr>\n",
       "    <tr>\n",
       "      <th>2603</th>\n",
       "      <td>0</td>\n",
       "      <td>961.999353</td>\n",
       "      <td>37073.192381</td>\n",
       "    </tr>\n",
       "    <tr>\n",
       "      <th>7738</th>\n",
       "      <td>1</td>\n",
       "      <td>655.611221</td>\n",
       "      <td>19039.168273</td>\n",
       "    </tr>\n",
       "    <tr>\n",
       "      <th>1579</th>\n",
       "      <td>0</td>\n",
       "      <td>864.047198</td>\n",
       "      <td>27690.113535</td>\n",
       "    </tr>\n",
       "    <tr>\n",
       "      <th>5058</th>\n",
       "      <td>0</td>\n",
       "      <td>1306.832034</td>\n",
       "      <td>57561.411261</td>\n",
       "    </tr>\n",
       "  </tbody>\n",
       "</table>\n",
       "</div>"
      ],
      "text/plain": [
       "      student      balance        income\n",
       "9069        0     0.000000  41239.020510\n",
       "2603        0   961.999353  37073.192381\n",
       "7738        1   655.611221  19039.168273\n",
       "1579        0   864.047198  27690.113535\n",
       "5058        0  1306.832034  57561.411261"
      ]
     },
     "metadata": {},
     "output_type": "display_data"
    },
    {
     "data": {
      "text/html": [
       "<div>\n",
       "<style scoped>\n",
       "    .dataframe tbody tr th:only-of-type {\n",
       "        vertical-align: middle;\n",
       "    }\n",
       "\n",
       "    .dataframe tbody tr th {\n",
       "        vertical-align: top;\n",
       "    }\n",
       "\n",
       "    .dataframe thead th {\n",
       "        text-align: right;\n",
       "    }\n",
       "</style>\n",
       "<table border=\"1\" class=\"dataframe\">\n",
       "  <thead>\n",
       "    <tr style=\"text-align: right;\">\n",
       "      <th></th>\n",
       "      <th>student</th>\n",
       "      <th>balance</th>\n",
       "      <th>income</th>\n",
       "    </tr>\n",
       "  </thead>\n",
       "  <tbody>\n",
       "    <tr>\n",
       "      <th>6252</th>\n",
       "      <td>0</td>\n",
       "      <td>1435.662933</td>\n",
       "      <td>31507.089277</td>\n",
       "    </tr>\n",
       "    <tr>\n",
       "      <th>4684</th>\n",
       "      <td>0</td>\n",
       "      <td>771.789347</td>\n",
       "      <td>42139.070269</td>\n",
       "    </tr>\n",
       "    <tr>\n",
       "      <th>1731</th>\n",
       "      <td>0</td>\n",
       "      <td>0.000000</td>\n",
       "      <td>21809.218509</td>\n",
       "    </tr>\n",
       "    <tr>\n",
       "      <th>4742</th>\n",
       "      <td>0</td>\n",
       "      <td>113.571264</td>\n",
       "      <td>32803.832648</td>\n",
       "    </tr>\n",
       "    <tr>\n",
       "      <th>4521</th>\n",
       "      <td>0</td>\n",
       "      <td>1358.132472</td>\n",
       "      <td>49903.597081</td>\n",
       "    </tr>\n",
       "  </tbody>\n",
       "</table>\n",
       "</div>"
      ],
      "text/plain": [
       "      student      balance        income\n",
       "6252        0  1435.662933  31507.089277\n",
       "4684        0   771.789347  42139.070269\n",
       "1731        0     0.000000  21809.218509\n",
       "4742        0   113.571264  32803.832648\n",
       "4521        0  1358.132472  49903.597081"
      ]
     },
     "metadata": {},
     "output_type": "display_data"
    },
    {
     "data": {
      "text/plain": [
       "9069    0\n",
       "2603    0\n",
       "7738    0\n",
       "1579    0\n",
       "5058    0\n",
       "Name: default, dtype: int64"
      ]
     },
     "metadata": {},
     "output_type": "display_data"
    },
    {
     "data": {
      "text/plain": [
       "6252    0\n",
       "4684    0\n",
       "1731    0\n",
       "4742    0\n",
       "4521    0\n",
       "Name: default, dtype: int64"
      ]
     },
     "metadata": {},
     "output_type": "display_data"
    }
   ],
   "source": [
    "X_train, X_test, y_train, y_test = train_test_split(df.drop(['default'],axis = 1), df['default'], test_size = 0.3,\n",
    "                                                  random_state = 42)\n",
    "print('Shape of training ', X_train.shape)\n",
    "print('Shape of testing ', X_test.shape)\n",
    "\n",
    "# Double check that the index of the train and test sets match\n",
    "display(X_train.head(), X_test.head(), y_train.head(), y_test.head())"
   ]
  },
  {
   "cell_type": "markdown",
   "id": "f2ff0721",
   "metadata": {},
   "source": [
    "We want to make sure that our train and test sets are balanced. This means making sure that there are no significant differences between them. For this, we will merge the datasets back together while adding a dummy variable indicating whether a row comes from the training or the test set. We can then use this dummy variable as the dependent variable in a regression and evaluate the p-values of all features.\n",
    "\n",
    "Note that we only need to do this on the features. For the targets, we simply want to make sure that the labels are relatively well distributed among the train and test set."
   ]
  },
  {
   "cell_type": "code",
   "execution_count": 46,
   "id": "b3db9386",
   "metadata": {},
   "outputs": [
    {
     "data": {
      "text/html": [
       "<div>\n",
       "<style scoped>\n",
       "    .dataframe tbody tr th:only-of-type {\n",
       "        vertical-align: middle;\n",
       "    }\n",
       "\n",
       "    .dataframe tbody tr th {\n",
       "        vertical-align: top;\n",
       "    }\n",
       "\n",
       "    .dataframe thead th {\n",
       "        text-align: right;\n",
       "    }\n",
       "</style>\n",
       "<table border=\"1\" class=\"dataframe\">\n",
       "  <thead>\n",
       "    <tr style=\"text-align: right;\">\n",
       "      <th></th>\n",
       "      <th>test</th>\n",
       "      <th>student</th>\n",
       "      <th>balance</th>\n",
       "      <th>income</th>\n",
       "    </tr>\n",
       "  </thead>\n",
       "  <tbody>\n",
       "    <tr>\n",
       "      <th>6252</th>\n",
       "      <td>1</td>\n",
       "      <td>0</td>\n",
       "      <td>1435.662933</td>\n",
       "      <td>31507.089277</td>\n",
       "    </tr>\n",
       "    <tr>\n",
       "      <th>4684</th>\n",
       "      <td>1</td>\n",
       "      <td>0</td>\n",
       "      <td>771.789347</td>\n",
       "      <td>42139.070269</td>\n",
       "    </tr>\n",
       "    <tr>\n",
       "      <th>1731</th>\n",
       "      <td>1</td>\n",
       "      <td>0</td>\n",
       "      <td>0.000000</td>\n",
       "      <td>21809.218509</td>\n",
       "    </tr>\n",
       "    <tr>\n",
       "      <th>4742</th>\n",
       "      <td>1</td>\n",
       "      <td>0</td>\n",
       "      <td>113.571264</td>\n",
       "      <td>32803.832648</td>\n",
       "    </tr>\n",
       "    <tr>\n",
       "      <th>4521</th>\n",
       "      <td>1</td>\n",
       "      <td>0</td>\n",
       "      <td>1358.132472</td>\n",
       "      <td>49903.597081</td>\n",
       "    </tr>\n",
       "    <tr>\n",
       "      <th>...</th>\n",
       "      <td>...</td>\n",
       "      <td>...</td>\n",
       "      <td>...</td>\n",
       "      <td>...</td>\n",
       "    </tr>\n",
       "    <tr>\n",
       "      <th>5734</th>\n",
       "      <td>0</td>\n",
       "      <td>0</td>\n",
       "      <td>865.697004</td>\n",
       "      <td>33541.046380</td>\n",
       "    </tr>\n",
       "    <tr>\n",
       "      <th>5191</th>\n",
       "      <td>0</td>\n",
       "      <td>1</td>\n",
       "      <td>493.629546</td>\n",
       "      <td>20500.212632</td>\n",
       "    </tr>\n",
       "    <tr>\n",
       "      <th>5390</th>\n",
       "      <td>0</td>\n",
       "      <td>0</td>\n",
       "      <td>722.029162</td>\n",
       "      <td>26984.256287</td>\n",
       "    </tr>\n",
       "    <tr>\n",
       "      <th>860</th>\n",
       "      <td>0</td>\n",
       "      <td>1</td>\n",
       "      <td>163.939823</td>\n",
       "      <td>21083.004510</td>\n",
       "    </tr>\n",
       "    <tr>\n",
       "      <th>7270</th>\n",
       "      <td>0</td>\n",
       "      <td>0</td>\n",
       "      <td>637.338107</td>\n",
       "      <td>49657.394282</td>\n",
       "    </tr>\n",
       "  </tbody>\n",
       "</table>\n",
       "<p>10000 rows × 4 columns</p>\n",
       "</div>"
      ],
      "text/plain": [
       "      test  student      balance        income\n",
       "6252     1        0  1435.662933  31507.089277\n",
       "4684     1        0   771.789347  42139.070269\n",
       "1731     1        0     0.000000  21809.218509\n",
       "4742     1        0   113.571264  32803.832648\n",
       "4521     1        0  1358.132472  49903.597081\n",
       "...    ...      ...          ...           ...\n",
       "5734     0        0   865.697004  33541.046380\n",
       "5191     0        1   493.629546  20500.212632\n",
       "5390     0        0   722.029162  26984.256287\n",
       "860      0        1   163.939823  21083.004510\n",
       "7270     0        0   637.338107  49657.394282\n",
       "\n",
       "[10000 rows x 4 columns]"
      ]
     },
     "metadata": {},
     "output_type": "display_data"
    },
    {
     "name": "stdout",
     "output_type": "stream",
     "text": [
      "0    7000\n",
      "1    3000\n",
      "Name: test, dtype: int64\n"
     ]
    }
   ],
   "source": [
    "# Insert the dummy variable in each set. \n",
    "X_train.insert(0, 'test', 0)\n",
    "X_test.insert(0, 'test', 1)\n",
    "\n",
    "# Merge the train and test set\n",
    "X_full = pd.concat([X_test, X_train], axis = 0)\n",
    "\n",
    "display(X_full)\n",
    "print(X_full['test'].value_counts())"
   ]
  },
  {
   "cell_type": "code",
   "execution_count": 47,
   "id": "408c6f4a",
   "metadata": {},
   "outputs": [
    {
     "name": "stdout",
     "output_type": "stream",
     "text": [
      "                            OLS Regression Results                            \n",
      "==============================================================================\n",
      "Dep. Variable:                   test   R-squared:                       0.000\n",
      "Model:                            OLS   Adj. R-squared:                  0.000\n",
      "Method:                 Least Squares   F-statistic:                     1.313\n",
      "Date:                Tue, 30 Jan 2024   Prob (F-statistic):              0.268\n",
      "Time:                        18:52:04   Log-Likelihood:                -6384.2\n",
      "No. Observations:               10000   AIC:                         1.278e+04\n",
      "Df Residuals:                    9996   BIC:                         1.281e+04\n",
      "Df Model:                           3                                         \n",
      "Covariance Type:            nonrobust                                         \n",
      "==============================================================================\n",
      "                 coef    std err          t      P>|t|      [0.025      0.975]\n",
      "------------------------------------------------------------------------------\n",
      "Intercept      0.3408      0.023     14.902      0.000       0.296       0.386\n",
      "income     -1.024e-06   5.23e-07     -1.958      0.050   -2.05e-06    1.27e-09\n",
      "balance     1.365e-06   9.68e-06      0.141      0.888   -1.76e-05    2.03e-05\n",
      "student       -0.0259      0.015     -1.675      0.094      -0.056       0.004\n",
      "==============================================================================\n",
      "Omnibus:                    13683.855   Durbin-Watson:                   0.001\n",
      "Prob(Omnibus):                  0.000   Jarque-Bera (JB):             1906.017\n",
      "Skew:                           0.872   Prob(JB):                         0.00\n",
      "Kurtosis:                       1.763   Cond. No.                     2.04e+05\n",
      "==============================================================================\n",
      "\n",
      "Notes:\n",
      "[1] Standard Errors assume that the covariance matrix of the errors is correctly specified.\n",
      "[2] The condition number is large, 2.04e+05. This might indicate that there are\n",
      "strong multicollinearity or other numerical problems.\n"
     ]
    }
   ],
   "source": [
    "result = smf.ols(\n",
    "    'test ~ income + balance + student',\n",
    "    data = X_full\n",
    ").fit()\n",
    "print(result.summary())"
   ]
  },
  {
   "cell_type": "markdown",
   "id": "d1155599",
   "metadata": {},
   "source": [
    "All of the p-values are larger than 0.05, hence, we can conclude that the train and test set are not significantly different (i.e., that they are very similar). This is exactly what we wished for. Otherwise, a model trained on the training set would not be able to predict the test set well."
   ]
  },
  {
   "cell_type": "markdown",
   "id": "c6d89a74",
   "metadata": {},
   "source": [
    "With the labels, it is often sufficient to compute the percentage of positive labels (i.e., percentage of mpg01) and see if this ratio is approximately equal. In this case, it is true."
   ]
  },
  {
   "cell_type": "code",
   "execution_count": 48,
   "id": "99a2e349",
   "metadata": {},
   "outputs": [
    {
     "name": "stdout",
     "output_type": "stream",
     "text": [
      "Percentage of positive labels in the test set: 3.13\n",
      "Percentage of positive labels in the training set: 3.41\n"
     ]
    }
   ],
   "source": [
    "# Check the label distribution in the training and test sets\n",
    "print(f'Percentage of positive labels in the test set: {round(y_test.mean()*100, 2)}')\n",
    "print(f'Percentage of positive labels in the training set: {round(y_train.mean()*100, 2)}')"
   ]
  },
  {
   "cell_type": "code",
   "execution_count": 49,
   "id": "4917c449",
   "metadata": {},
   "outputs": [],
   "source": [
    "# Remove the test dummy\n",
    "X_test = X_test.drop(['test'], axis=1)\n",
    "X_train = X_train.drop(['test'], axis=1)"
   ]
  },
  {
   "cell_type": "code",
   "execution_count": 50,
   "id": "b7f9a5ea",
   "metadata": {},
   "outputs": [
    {
     "data": {
      "text/html": [
       "<style>#sk-container-id-6 {color: black;}#sk-container-id-6 pre{padding: 0;}#sk-container-id-6 div.sk-toggleable {background-color: white;}#sk-container-id-6 label.sk-toggleable__label {cursor: pointer;display: block;width: 100%;margin-bottom: 0;padding: 0.3em;box-sizing: border-box;text-align: center;}#sk-container-id-6 label.sk-toggleable__label-arrow:before {content: \"▸\";float: left;margin-right: 0.25em;color: #696969;}#sk-container-id-6 label.sk-toggleable__label-arrow:hover:before {color: black;}#sk-container-id-6 div.sk-estimator:hover label.sk-toggleable__label-arrow:before {color: black;}#sk-container-id-6 div.sk-toggleable__content {max-height: 0;max-width: 0;overflow: hidden;text-align: left;background-color: #f0f8ff;}#sk-container-id-6 div.sk-toggleable__content pre {margin: 0.2em;color: black;border-radius: 0.25em;background-color: #f0f8ff;}#sk-container-id-6 input.sk-toggleable__control:checked~div.sk-toggleable__content {max-height: 200px;max-width: 100%;overflow: auto;}#sk-container-id-6 input.sk-toggleable__control:checked~label.sk-toggleable__label-arrow:before {content: \"▾\";}#sk-container-id-6 div.sk-estimator input.sk-toggleable__control:checked~label.sk-toggleable__label {background-color: #d4ebff;}#sk-container-id-6 div.sk-label input.sk-toggleable__control:checked~label.sk-toggleable__label {background-color: #d4ebff;}#sk-container-id-6 input.sk-hidden--visually {border: 0;clip: rect(1px 1px 1px 1px);clip: rect(1px, 1px, 1px, 1px);height: 1px;margin: -1px;overflow: hidden;padding: 0;position: absolute;width: 1px;}#sk-container-id-6 div.sk-estimator {font-family: monospace;background-color: #f0f8ff;border: 1px dotted black;border-radius: 0.25em;box-sizing: border-box;margin-bottom: 0.5em;}#sk-container-id-6 div.sk-estimator:hover {background-color: #d4ebff;}#sk-container-id-6 div.sk-parallel-item::after {content: \"\";width: 100%;border-bottom: 1px solid gray;flex-grow: 1;}#sk-container-id-6 div.sk-label:hover label.sk-toggleable__label {background-color: #d4ebff;}#sk-container-id-6 div.sk-serial::before {content: \"\";position: absolute;border-left: 1px solid gray;box-sizing: border-box;top: 0;bottom: 0;left: 50%;z-index: 0;}#sk-container-id-6 div.sk-serial {display: flex;flex-direction: column;align-items: center;background-color: white;padding-right: 0.2em;padding-left: 0.2em;position: relative;}#sk-container-id-6 div.sk-item {position: relative;z-index: 1;}#sk-container-id-6 div.sk-parallel {display: flex;align-items: stretch;justify-content: center;background-color: white;position: relative;}#sk-container-id-6 div.sk-item::before, #sk-container-id-6 div.sk-parallel-item::before {content: \"\";position: absolute;border-left: 1px solid gray;box-sizing: border-box;top: 0;bottom: 0;left: 50%;z-index: -1;}#sk-container-id-6 div.sk-parallel-item {display: flex;flex-direction: column;z-index: 1;position: relative;background-color: white;}#sk-container-id-6 div.sk-parallel-item:first-child::after {align-self: flex-end;width: 50%;}#sk-container-id-6 div.sk-parallel-item:last-child::after {align-self: flex-start;width: 50%;}#sk-container-id-6 div.sk-parallel-item:only-child::after {width: 0;}#sk-container-id-6 div.sk-dashed-wrapped {border: 1px dashed gray;margin: 0 0.4em 0.5em 0.4em;box-sizing: border-box;padding-bottom: 0.4em;background-color: white;}#sk-container-id-6 div.sk-label label {font-family: monospace;font-weight: bold;display: inline-block;line-height: 1.2em;}#sk-container-id-6 div.sk-label-container {text-align: center;}#sk-container-id-6 div.sk-container {/* jupyter's `normalize.less` sets `[hidden] { display: none; }` but bootstrap.min.css set `[hidden] { display: none !important; }` so we also need the `!important` here to be able to override the default hidden behavior on the sphinx rendered scikit-learn.org. See: https://github.com/scikit-learn/scikit-learn/issues/21755 */display: inline-block !important;position: relative;}#sk-container-id-6 div.sk-text-repr-fallback {display: none;}</style><div id=\"sk-container-id-6\" class=\"sk-top-container\"><div class=\"sk-text-repr-fallback\"><pre>LogisticRegression()</pre><b>In a Jupyter environment, please rerun this cell to show the HTML representation or trust the notebook. <br />On GitHub, the HTML representation is unable to render, please try loading this page with nbviewer.org.</b></div><div class=\"sk-container\" hidden><div class=\"sk-item\"><div class=\"sk-estimator sk-toggleable\"><input class=\"sk-toggleable__control sk-hidden--visually\" id=\"sk-estimator-id-6\" type=\"checkbox\" checked><label for=\"sk-estimator-id-6\" class=\"sk-toggleable__label sk-toggleable__label-arrow\">LogisticRegression</label><div class=\"sk-toggleable__content\"><pre>LogisticRegression()</pre></div></div></div></div></div>"
      ],
      "text/plain": [
       "LogisticRegression()"
      ]
     },
     "execution_count": 50,
     "metadata": {},
     "output_type": "execute_result"
    }
   ],
   "source": [
    "# fit the logisitc regression on training data\n",
    "logisticRegr = LogisticRegression()\n",
    "logisticRegr.fit(X_train, y_train)"
   ]
  },
  {
   "cell_type": "code",
   "execution_count": 51,
   "id": "e85198d9",
   "metadata": {},
   "outputs": [
    {
     "name": "stdout",
     "output_type": "stream",
     "text": [
      "Logit part a accuracy: 97.37%\n",
      "Logit part b accuracy: 96.83%\n",
      "Logit part c_1 accuracy: 97.63%\n",
      "Logit part c_2 accuracy: 97.53%\n",
      "Logit part c_3 accuracy: 96.93%\n",
      "Logit part d accuracy: 96.83%\n"
     ]
    }
   ],
   "source": [
    "# obtain the predictions\n",
    "y_pred_log = logisticRegr.predict_proba(X_test)\n",
    "\n",
    "y_pred_class = (y_pred_log[:, 1] > 0.5).astype(int)\n",
    "\n",
    "accuracies['Logit part d'] = accuracy_score(y_test, y_pred_class)\n",
    "\n",
    "# Print the accuracies\n",
    "for model, accuracy in accuracies.items():\n",
    "    print(f'{model} accuracy: {round(accuracy, 4)*100}%')"
   ]
  },
  {
   "cell_type": "code",
   "execution_count": 52,
   "id": "348e90f3",
   "metadata": {},
   "outputs": [
    {
     "data": {
      "image/png": "[encoded data removed]",
      "text/plain": [
       "<Figure size 640x480 with 2 Axes>"
      ]
     },
     "metadata": {},
     "output_type": "display_data"
    }
   ],
   "source": [
    "# Confusion Matrix\n",
    "ax = sns.heatmap(\n",
    "    confusion_matrix(\n",
    "        y_test,\n",
    "        y_pred_class,\n",
    "        normalize = 'true'\n",
    "    ),\n",
    "    annot=True,\n",
    "    fmt='.2%',\n",
    "    cmap='Blues'\n",
    ")\n",
    "\n",
    "ax.set_title('Logistic: Confusion Matrix with labels\\n')\n",
    "ax.set_xlabel('\\nPredicted Values')\n",
    "ax.set_ylabel('Actual Values')\n",
    "\n",
    "ax.xaxis.set_ticklabels(['False','True'])\n",
    "ax.yaxis.set_ticklabels(['False','True'])\n",
    "\n",
    "plt.show()"
   ]
  },
  {
   "cell_type": "code",
   "execution_count": 54,
   "id": "43696383",
   "metadata": {},
   "outputs": [
    {
     "name": "stdout",
     "output_type": "stream",
     "text": [
      "Validation error for logistic model part d is 3.17 %\n"
     ]
    }
   ],
   "source": [
    "# computing the validation error\n",
    "print('Validation error for logistic model part d is', round((1 - accuracy_score(y_test, y_pred_class)) * 100, 2), '%')"
   ]
  },
  {
   "cell_type": "markdown",
   "id": "3e6239f1",
   "metadata": {},
   "source": [
    "**Conclusion:** As we can see from the results above, using balance and income for predicting default (part b), validation error was around 3.17%. When we added a new dummy variable student, the error remains the same which is 3.17% (random_state = 42). So compared to the values above without the student dummy variable, it seems that adding the student variable does not help in any of the metrics since they are very similar (although we should consider the variance, in a more careful analysis)."
   ]
  },
  {
   "cell_type": "code",
   "execution_count": null,
   "id": "d0ae00d5",
   "metadata": {},
   "outputs": [],
   "source": []
  }
 ],
 "metadata": {
  "kernelspec": {
   "display_name": "Python 3 (ipykernel)",
   "language": "python",
   "name": "python3"
  },
  "language_info": {
   "codemirror_mode": {
    "name": "ipython",
    "version": 3
   },
   "file_extension": ".py",
   "mimetype": "text/x-python",
   "name": "python",
   "nbconvert_exporter": "python",
   "pygments_lexer": "ipython3",
   "version": "3.11.7"
  }
 },
 "nbformat": 4,
 "nbformat_minor": 5
}
